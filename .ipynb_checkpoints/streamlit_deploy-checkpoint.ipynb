{
  "nbformat": 4,
  "nbformat_minor": 0,
  "metadata": {
    "anaconda-cloud": {},
    "kernelspec": {
      "display_name": "Python 3",
      "language": "python",
      "name": "python3"
    },
    "language_info": {
      "codemirror_mode": {
        "name": "ipython",
        "version": 3
      },
      "file_extension": ".py",
      "mimetype": "text/x-python",
      "name": "python",
      "nbconvert_exporter": "python",
      "pygments_lexer": "ipython3",
      "version": "3.7.6"
    },
    "colab": {
      "name": "streamlit_ngrok_deploy.ipynb",
      "provenance": [],
      "collapsed_sections": []
    }
  },
  "cells": [
    {
      "cell_type": "code",
      "metadata": {
        "id": "mP6UCM0w4VmB",
        "colab": {
          "base_uri": "https://localhost:8080/"
        },
        "outputId": "4eb60024-c6c7-4288-b650-0c5615179630"
      },
      "source": [
        "!pip install streamlit --quiet\n",
        "!pip install pyngrok --quiet\n",
        "!pip install fastbook --quiet\n",
        "!pip install pyfolio --quiet\n",
        "!pip install git+https://github.com/yhilpisch/tpqoa.git --upgrade --quiet\n",
        "\n",
        "!curl -LkO https://raw.githubusercontent.com/remoteit/installer/master/scripts/auto-install.sh \n",
        "! chmod +x ./auto-install.sh \n",
        "! sudo ./auto-install.sh "
      ],
      "execution_count": 12,
      "outputs": [
        {
          "output_type": "stream",
          "text": [
            "  Building wheel for tpqoa (setup.py) ... \u001b[?25l\u001b[?25hdone\n",
            "  % Total    % Received % Xferd  Average Speed   Time    Time     Time  Current\n",
            "                                 Dload  Upload   Total   Spent    Left  Speed\n",
            "100 12956  100 12956    0     0  64780      0 --:--:-- --:--:-- --:--:-- 64780\n",
            "\n",
            " curl found \n",
            "********************************************************\n",
            "remote.it platform and binary tester version 2.5.38 \n",
            "Current directory /content/drive/My Drive/Capstone\n",
            "Tue Apr 13 08:47:30 UTC 2021\n",
            "********************************************************\n",
            "Linux afcbceec2094 4.19.112+ #1 SMP Thu Jul 23 08:00:38 PDT 2020 x86_64 x86_64 x86_64 GNU/Linux\n",
            "Detected architecture is x86_64\n",
            "/usr/bin/dpkg\n",
            "Debian OS detected.\n",
            "amd64 architecture detected.\n",
            "\n",
            "Downloading and testing connectd.x86_64-ubuntu16.04...\n",
            "Looks compatible.\n",
            "connectd.x86_64-ubuntu16.04 is compatible!\n",
            "filename connectd_2.5.38_amd64.deb\n",
            "filepath https://github.com/remoteit/installer/releases/download/v2.5.38/connectd_2.5.38_amd64.deb\n",
            "Selecting previously unselected package connectd.\n",
            "(Reading database ... 160983 files and directories currently installed.)\n",
            "Preparing to unpack connectd_2.5.38_amd64.deb ...\n",
            "Unpacking connectd (2.5.38) ...\n",
            "Setting up connectd (2.5.38) ...\n",
            "\n",
            "================================================================================\n",
            "Run \"sudo connectd_installer\" to interactively install remote.it Services on this device.\n",
            "\n",
            "See https://docs.remote.it for more information.\n",
            "\n",
            "================================================================================\n"
          ],
          "name": "stdout"
        }
      ]
    },
    {
      "cell_type": "code",
      "metadata": {
        "colab": {
          "base_uri": "https://localhost:8080/"
        },
        "id": "HpKcQjKhZx8c",
        "outputId": "1b969917-d811-43f9-ad5d-00f40d123383"
      },
      "source": [
        "! sudo connectd_installer"
      ],
      "execution_count": 2,
      "outputs": [
        {
          "output_type": "stream",
          "text": [
            "/usr/bin/connectd_installer: 67: /usr/bin/connectd_options: ip: not found\n",
            "\n",
            "remote.it connection installer Version: 2.5.38 lib_v2.1.26 \n",
            "Modified: June 10, 2020 (library) November 10, 2020 \n",
            "Build date: Thu Nov 12 17:55:43 UTC 2020\n",
            "curl with SSL support installed.\n",
            "\n",
            "Checking the daemon for compatibility... \n",
            "\n",
            "Using architecture x86_64-ubuntu16.04...\n",
            "\n",
            "Checking your network for compatibility... \n",
            "\n",
            "Network connection OK...\n",
            "Your network is compatible with remote.it services.\n",
            "\n",
            "********************* Sign In Menu *********************\n",
            "                                                      \n",
            "     1) Sign in to your remote.it account    \n",
            "     2) Exit                                          \n",
            "                                                      \n",
            "********************************************************\n",
            "\n",
            "Choose a menu selection (1 - 2):\n",
            "1\n",
            "\n",
            "Please enter your remote.it Username (e-mail address): \n",
            "ricky.macharm@gmail.com\n",
            "\n",
            "Please enter your remote.it password: \n",
            ".\n",
            "/usr/bin/connectd_installer: 238: /usr/bin/connectd_installer: ip: not found\n",
            "..Created symlink /etc/systemd/system/multi-user.target.wants/connectd.service → /lib/systemd/system/connectd.service.\n",
            "Created symlink /etc/systemd/system/multi-user.target.wants/connectd_schannel.service → /lib/systemd/system/connectd_schannel.service.\n",
            "System has not been booted with systemd as init system (PID 1). Can't operate.\n",
            "System has not been booted with systemd as init system (PID 1). Can't operate.\n",
            "..\n",
            "==========================================\n",
            "Allocated UID: 80:00:00:00:01:0B:65:C6. \n",
            "\n",
            "..\n",
            "\n",
            "Enter a name for your device (e.g. my_Pi_001).\n",
            "\n",
            "The Device Name identifies your device in the remote.it portal.\n",
            "Your services will be grouped under the Device Name.\n",
            "\n",
            "Only letters, numbers, underscore, space and dash are allowed.\n",
            "\n",
            "WQU\n",
            ".\n",
            "Registering WQU\n",
            ".......\n",
            "\n",
            "/usr/bin/Connectdrmt365535: 67: /usr/bin/connectd_options: ip: not found\n",
            "System has not been booted with systemd as init system (PID 1). Can't operate.\n",
            "\n",
            "\n",
            "=========================  Installed remote.it Services  ======================\n",
            " Service Name       | Protocol   | LAN Address        | Port | Application     \n",
            "-------------------------------------------------------------------------------\n",
            "-------------------------------------------------------------------------------\n",
            " Device Name: WQU  Platform: x86_64-ubuntu16.04\n",
            " Hardware ID: -GrRCxLd1VwmMQX8caSjd\n",
            "\n",
            "============================ Main Menu ============================\n",
            "                                                                   \n",
            "    1) Attach/reinstall a remote.it Service to an application      \n",
            "    2) Attach/reinstall a remote.it Service to a LAN application   \n",
            "    3) Remove a remote.it Service from an application              \n",
            "    4) Remove all remote.it Services, then exit                    \n",
            "    5) Exit                                                        \n",
            "                                                                   \n",
            "===================================================================\n",
            "    'application' is any TCP service (e.g. SSH, VNC, HTTP, etc.)   \n",
            "    running on this device.  'LAN application' is a TCP service    \n",
            "    running on another device on this LAN.                         \n",
            "===================================================================\n",
            "Choose a menu selection (1 - 5):\n",
            "1\n",
            "\n",
            "\n",
            "*********** Protocol Selection Menu ***********\n",
            "                                             \n",
            "     1) SSH on port 22                       \n",
            "     2) Web (HTTP) on port 80                \n",
            "     3) Secure Web (HTTPS) on port 443       \n",
            "     4) VNC on port 5900                     \n",
            "     5) nxWitness on port 7001               \n",
            "     6) Samba (SMB) on port 445              \n",
            "     7) Remote Desktop (RDP) on port 3389    \n",
            "     8) NextCloud on port 443                \n",
            "     9) OpenVPN on port 1194                 \n",
            "     10) Custom (TCP)                        \n",
            "     11) Return to previous menu             \n",
            "                                             \n",
            "***********************************************\n",
            "\n",
            " You can change the port value during install  \n",
            "\n",
            "***********************************************\n",
            "\n",
            "Choose a menu selection (1 - 11):\n",
            "2\n",
            "\n",
            "The default port for Web (http) is 80.\n",
            "\n",
            "Would you like to continue with the default port assignment? [y/n] \n",
            "y\n",
            "We will attach a remote.it Service to the following Application:\n",
            "\n",
            "Protocol: web \n",
            "Port #: 80\n",
            ".\n",
            "....\n",
            "==========================================\n",
            "Allocated UID: 80:00:00:00:01:0B:65:C9. \n",
            "\n",
            "..\n",
            "\n",
            "Enter a name for this remote.it service (e.g. web-Pi). \n",
            "This name will be shown in your remote.it Service List.\n",
            "\n",
            "Only letters, numbers, underscore, space and dash are allowed.\n",
            "\n",
            "MScFE\n",
            ".\n",
            "Registering MScFE\n",
            ".......\n",
            "\n",
            "/usr/bin/Connectdweb80: 67: /usr/bin/connectd_options: ip: not found\n",
            "System has not been booted with systemd as init system (PID 1). Can't operate.\n",
            "\n",
            "\n",
            "=========================  Installed remote.it Services  ======================\n",
            " Service Name       | Protocol   | LAN Address        | Port | Application     \n",
            "-------------------------------------------------------------------------------\n",
            " MScFE              | HTTP       | localhost          | 80   | not detected     \n",
            "-------------------------------------------------------------------------------\n",
            " Device Name: WQU  Platform: x86_64-ubuntu16.04\n",
            " Hardware ID: -GrRCxLd1VwmMQX8caSjd\n",
            "============================================================\n",
            "      'not detected' indicates that there is no TCP \n",
            "      listener detected at that address and port. \n",
            "      Please check your application's settings.\n",
            "============================================================\n",
            "\n",
            "============================ Main Menu ============================\n",
            "                                                                   \n",
            "    1) Attach/reinstall a remote.it Service to an application      \n",
            "    2) Attach/reinstall a remote.it Service to a LAN application   \n",
            "    3) Remove a remote.it Service from an application              \n",
            "    4) Remove all remote.it Services, then exit                    \n",
            "    5) Exit                                                        \n",
            "                                                                   \n",
            "===================================================================\n",
            "    'application' is any TCP service (e.g. SSH, VNC, HTTP, etc.)   \n",
            "    running on this device.  'LAN application' is a TCP service    \n",
            "    running on another device on this LAN.                         \n",
            "===================================================================\n",
            "Choose a menu selection (1 - 5):\n",
            "5\n",
            "\n",
            "\n",
            "Are you sure you want to exit? [y/n] \n",
            "y\n"
          ],
          "name": "stdout"
        }
      ]
    },
    {
      "cell_type": "code",
      "metadata": {
        "id": "xk-IJIJv-ic2"
      },
      "source": [
        "#@title Oanda API\n",
        "import os\n",
        "import tpqoa\n",
        "path = '/content/drive/MyDrive/Oanda_Algo/pyalgo.cfg'\n",
        "api = tpqoa.tpqoa('/content/drive/MyDrive/Oanda_Algo/pyalgo.cfg')\n",
        "\n",
        "path1 = '/content/drive/MyDrive/Capstone'\n",
        "\n",
        "os.chdir(path1)"
      ],
      "execution_count": 3,
      "outputs": []
    },
    {
      "cell_type": "code",
      "metadata": {
        "id": "cpcz8nQZ7N1D",
        "colab": {
          "base_uri": "https://localhost:8080/"
        },
        "outputId": "eb3511a2-2a74-406c-a4ab-ff122574a03a"
      },
      "source": [
        "%%writefile webapp.py\n",
        "import os\n",
        "import re\n",
        "import tpqoa\n",
        "\n",
        "from fastbook import *\n",
        "  \n",
        "import random\n",
        "import numpy as np\n",
        "from sklearn.metrics import accuracy_score, confusion_matrix, classification_report\n",
        "from sklearn.model_selection import RandomizedSearchCV, GridSearchCV\n",
        "import pandas as pd\n",
        "from pylab import mpl, plt\n",
        "plt.style.use('seaborn')\n",
        "mpl.rcParams['font.family'] = 'serif'\n",
        "os.environ['PYTHONHASHSEED'] = '0'\n",
        "\n",
        "from sklearn.ensemble import RandomForestClassifier\n",
        "from lightgbm import LGBMClassifier\n",
        "from xgboost import XGBClassifier\n",
        "\n",
        "from deploy import *\n",
        "\n",
        "pairs = ['EUR_USD', 'USD_JPY', 'GBP_USD', 'USD_CHF', \n",
        "        'AUD_USD', 'USD_CAD', 'NZD_USD', 'EUR_GBP', 'EUR_JPY',\n",
        "        'GBP_JPY', 'CHF_JPY', 'GBP_CHF', 'EUR_AUD', 'EUR_CAD', \n",
        "        'AUD_CAD', 'AUD_JPY', 'CAD_JPY', 'NZD_JPY', 'GBP_CAD', \n",
        "        'GBP_NZD', 'GBP_AUD', 'AUD_NZD',  'AUD_CHF', 'EUR_NZD',\n",
        "        'NZD_CHF', 'CAD_CHF', 'NZD_CAD',  'EUR_CHF']\n",
        "\n",
        "def get_data(instr, gran = 'D', td=1000):\n",
        "    start = f\"{date.today() - timedelta(td) }\"      \n",
        "    end = f\"{date.today() - timedelta(1)}\"        \n",
        "    granularity = gran          \n",
        "    price = 'M'\n",
        "    data = api.get_history(instr, start, end, granularity, price)\n",
        "    data.drop(['complete'], axis=1, inplace=True)\n",
        "    data.reset_index(inplace=True)\n",
        "    data.rename(columns = {'time':'Date','o':'Open','c': 'Close', 'h':'High', 'l': 'Low'}, inplace = True)\n",
        "    data.set_index('Date', inplace=True)\n",
        "    return data\n",
        "\n",
        "\n",
        "df = pd.concat([xgb_deploy(), lgb_deploy(), rfc_deploy()], axis=1)\n",
        "\n",
        "PAGE_CONFIG = {\"page_title\":\"Forex Entry Signals\",\n",
        "               \"page_icon\":\":smiley:\",\"layout\":\"centered\"}\n",
        "st.beta_set_page_config(**PAGE_CONFIG)\n",
        "\n",
        "\n",
        "def main():\n",
        "\tst.title(\"Awesome Streamlit for ML\")\n",
        "\tst.subheader(\"How to run streamlit from colab\")\n",
        "\n",
        "\n",
        "\tmenu = [\"Home\",\"About\"]\n",
        "\tchoice = st.sidebar.selectbox('Menu',menu)\n",
        "\tif choice == 'Home':\n",
        "\t\tst.subheader(f\"Today's Signals: {date.today()}\")\t\n",
        "    st.write(df)\n",
        "\n",
        "\n",
        "\n",
        "if __name__ == '__main__':\n",
        "\tmain()"
      ],
      "execution_count": 4,
      "outputs": [
        {
          "output_type": "stream",
          "text": [
            "Overwriting webapp.py\n"
          ],
          "name": "stdout"
        }
      ]
    },
    {
      "cell_type": "code",
      "metadata": {
        "id": "m-UlMAmLfNvk"
      },
      "source": [
        "!streamlit run --server.port 80 weapp.py --&>/dev/null&"
      ],
      "execution_count": 5,
      "outputs": []
    },
    {
      "cell_type": "code",
      "metadata": {
        "id": "xFibT9oVP903"
      },
      "source": [
        "# from pyngrok import ngrok"
      ],
      "execution_count": 4,
      "outputs": []
    },
    {
      "cell_type": "code",
      "metadata": {
        "colab": {
          "base_uri": "https://localhost:8080/"
        },
        "id": "k6GzKn54JMri",
        "outputId": "b9d9e6f1-83fd-407c-b0ae-23b4c357ea73"
      },
      "source": [
        "# ! ngrok authtoken 1qqKc9FxP2UwdbAGFY076C8ecKl_2Xa4gP6irVvBqHvZVqGMh"
      ],
      "execution_count": 5,
      "outputs": [
        {
          "output_type": "stream",
          "text": [
            "Authtoken saved to configuration file: /root/.ngrok2/ngrok.yml\n"
          ],
          "name": "stdout"
        }
      ]
    },
    {
      "cell_type": "code",
      "metadata": {
        "id": "TOqiB-JUT9U-"
      },
      "source": [
        "#  !pgrep streamlit"
      ],
      "execution_count": 7,
      "outputs": []
    },
    {
      "cell_type": "code",
      "metadata": {
        "id": "FjoXDnU3Tf8a"
      },
      "source": [
        "!streamlit run webapp.py &>/dev/null&"
      ],
      "execution_count": 7,
      "outputs": []
    },
    {
      "cell_type": "code",
      "metadata": {
        "colab": {
          "base_uri": "https://localhost:8080/"
        },
        "id": "u9brXbtWTPJ7",
        "outputId": "f20505db-0df1-4e49-cece-a6b45ab43b7a"
      },
      "source": [
        "# # Setup a tunnel to the streamlit port 8501\n",
        "# public_url = ngrok.connect(port='8501')\n",
        "# public_url"
      ],
      "execution_count": 8,
      "outputs": [
        {
          "output_type": "execute_result",
          "data": {
            "text/plain": [
              "<NgrokTunnel: \"http://d037afd4543b.ngrok.io\" -> \"http://localhost:80\">"
            ]
          },
          "metadata": {
            "tags": []
          },
          "execution_count": 8
        }
      ]
    },
    {
      "cell_type": "code",
      "metadata": {
        "id": "klFxT67TTP-Z"
      },
      "source": [
        "!kill 1196"
      ],
      "execution_count": 24,
      "outputs": []
    },
    {
      "cell_type": "code",
      "metadata": {
        "id": "oHbAF-2MVZhu"
      },
      "source": [
        "ngrok.kill()"
      ],
      "execution_count": 28,
      "outputs": []
    },
    {
      "cell_type": "code",
      "metadata": {
        "id": "9yhC-f7lWE0X"
      },
      "source": [
        ""
      ],
      "execution_count": null,
      "outputs": []
    }
  ]
}
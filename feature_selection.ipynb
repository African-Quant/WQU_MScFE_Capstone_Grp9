{
  "nbformat": 4,
  "nbformat_minor": 0,
  "metadata": {
    "anaconda-cloud": {},
    "kernelspec": {
      "display_name": "Python 3",
      "language": "python",
      "name": "python3"
    },
    "language_info": {
      "codemirror_mode": {
        "name": "ipython",
        "version": 3
      },
      "file_extension": ".py",
      "mimetype": "text/x-python",
      "name": "python",
      "nbconvert_exporter": "python",
      "pygments_lexer": "ipython3",
      "version": "3.7.6"
    },
    "colab": {
      "name": "feature_selection.ipynb",
      "provenance": [],
      "collapsed_sections": [],
      "include_colab_link": true
    }
  },
  "cells": [
    {
      "cell_type": "markdown",
      "metadata": {
        "id": "view-in-github",
        "colab_type": "text"
      },
      "source": [
        "<a href=\"https://colab.research.google.com/github/African-Quant/WQU_MScFE_Capstone_Grp9/blob/master/feature_selection.ipynb\" target=\"_parent\"><img src=\"https://colab.research.google.com/assets/colab-badge.svg\" alt=\"Open In Colab\"/></a>"
      ]
    },
    {
      "cell_type": "code",
      "metadata": {
        "colab": {
          "base_uri": "https://localhost:8080/"
        },
        "id": "mP6UCM0w4VmB",
        "outputId": "948bf74c-4b03-4b12-e02c-79911cb88520"
      },
      "source": [
        "!pip install -Uqq fastbook  --quiet\n",
        "! pip install pyfolio --quiet\n",
        "import fastbook\n",
        "# fastbook.setup_book()"
      ],
      "execution_count": null,
      "outputs": [
        {
          "output_type": "stream",
          "text": [
            "\u001b[K     |████████████████████████████████| 727kB 4.2MB/s \n",
            "\u001b[K     |████████████████████████████████| 51kB 4.0MB/s \n",
            "\u001b[K     |████████████████████████████████| 1.2MB 8.9MB/s \n",
            "\u001b[K     |████████████████████████████████| 194kB 17.6MB/s \n",
            "\u001b[K     |████████████████████████████████| 51kB 5.2MB/s \n",
            "\u001b[K     |████████████████████████████████| 61kB 5.5MB/s \n",
            "\u001b[K     |████████████████████████████████| 12.8MB 294kB/s \n",
            "\u001b[K     |████████████████████████████████| 776.8MB 22kB/s \n",
            "\u001b[31mERROR: torchtext 0.9.1 has requirement torch==1.8.1, but you'll have torch 1.7.1 which is incompatible.\u001b[0m\n",
            "\u001b[K     |████████████████████████████████| 92kB 3.2MB/s \n",
            "\u001b[K     |████████████████████████████████| 61kB 5.3MB/s \n",
            "\u001b[?25h  Building wheel for pyfolio (setup.py) ... \u001b[?25l\u001b[?25hdone\n",
            "  Building wheel for empyrical (setup.py) ... \u001b[?25l\u001b[?25hdone\n"
          ],
          "name": "stdout"
        }
      ]
    },
    {
      "cell_type": "code",
      "metadata": {
        "id": "cpcz8nQZ7N1D"
      },
      "source": [
        "from fastbook import *\n",
        "\n",
        "from pandas.api.types import is_string_dtype, is_numeric_dtype, is_categorical_dtype\n",
        "from fastai.tabular.all import *\n",
        "from sklearn.ensemble import RandomForestClassifier, AdaBoostClassifier\n",
        "from lightgbm import LGBMClassifier\n",
        "from xgboost import XGBClassifier\n",
        "from pyfolio.timeseries import perf_stats \n",
        "from pyfolio import create_simple_tear_sheet"
      ],
      "execution_count": null,
      "outputs": []
    },
    {
      "cell_type": "code",
      "metadata": {
        "id": "wsty6khnzzbo"
      },
      "source": [
        "import os\n",
        "import re     \n",
        "import random\n",
        "import numpy as np\n",
        "from sklearn.metrics import accuracy_score, confusion_matrix, classification_report\n",
        "import pandas as pd\n",
        "from pylab import mpl, plt\n",
        "plt.style.use('seaborn')\n",
        "mpl.rcParams['font.family'] = 'serif'\n",
        "os.environ['PYTHONHASHSEED'] = '0'\n",
        "\n",
        "import warnings\n",
        "warnings.filterwarnings('ignore')"
      ],
      "execution_count": null,
      "outputs": []
    },
    {
      "cell_type": "code",
      "metadata": {
        "id": "OcLIHKoXzzP7"
      },
      "source": [
        "pairs = ['AUDCAD', 'AUDCHF', 'AUDJPY', 'AUDNZD', 'AUDUSD', 'CAD', 'CADCHF', \n",
        "        'CADJPY', 'CHF', 'CHFJPY', 'EURAUD', 'EURCAD', 'EURCHF', 'EURGBP', \n",
        "        'EURJPY', 'EURNZD', 'EURUSD', 'GBPAUD', 'GBPCAD', 'GBPCHF', 'GBPJPY', \n",
        "        'GBPNZD', 'GBPUSD', 'JPY', 'NZDCAD', 'NZDCHF', 'NZDJPY', 'NZDUSD']\n",
        "\n",
        "def get_data(pair):\n",
        "        ''' Retrieves and prepares the data.\n",
        "        '''\n",
        "        url = f'https://raw.githubusercontent.com/African-Quant/WQU_MScFE_Capstone_Grp9/master/Datasets/{pair}%3DX.csv'\n",
        "        raw = pd.read_csv(url)\n",
        "        raw = pd.DataFrame(raw).drop(['Adj Close', 'Volume'], axis=1)\n",
        "        raw.iloc[:,0] = pd.to_datetime(raw.iloc[:,0])\n",
        "        raw.set_index('Date', inplace=True)\n",
        "        return raw"
      ],
      "execution_count": null,
      "outputs": []
    },
    {
      "cell_type": "code",
      "metadata": {
        "colab": {
          "base_uri": "https://localhost:8080/"
        },
        "id": "HaLYazeL2V3q",
        "outputId": "f3414491-1c81-424b-b0be-61863d0916bb"
      },
      "source": [
        "d = {a:b for a, b in enumerate(pairs)}\n",
        "print(d)"
      ],
      "execution_count": null,
      "outputs": [
        {
          "output_type": "stream",
          "text": [
            "{0: 'AUDCAD', 1: 'AUDCHF', 2: 'AUDJPY', 3: 'AUDNZD', 4: 'AUDUSD', 5: 'CAD', 6: 'CADCHF', 7: 'CADJPY', 8: 'CHF', 9: 'CHFJPY', 10: 'EURAUD', 11: 'EURCAD', 12: 'EURCHF', 13: 'EURGBP', 14: 'EURJPY', 15: 'EURNZD', 16: 'EURUSD', 17: 'GBPAUD', 18: 'GBPCAD', 19: 'GBPCHF', 20: 'GBPJPY', 21: 'GBPNZD', 22: 'GBPUSD', 23: 'JPY', 24: 'NZDCAD', 25: 'NZDCHF', 26: 'NZDJPY', 27: 'NZDUSD'}\n"
          ],
          "name": "stdout"
        }
      ]
    },
    {
      "cell_type": "code",
      "metadata": {
        "id": "3oitLfY62fj3"
      },
      "source": [
        "# ATR\n",
        "def eATR(df1,n=14):\n",
        "    \"\"\"This calculates the Average True Range of of a dataframe of the open,\n",
        "    high, low, and close data of an instrument\"\"\"\n",
        "\n",
        "    df = df1[['Open',\t'High',\t'Low',\t'Close']].copy()\n",
        "    # True Range\n",
        "    df['TR'] = 0\n",
        "    for i in range(len(df)):\n",
        "      try:\n",
        "        df.iloc[i, 4] = max(df.iat[i,1] - df.iat[i,2],\n",
        "                         abs(df.iat[i,1] - df.iat[i-1,3]),\n",
        "                         abs(df.iat[i,2] - df.iat[i-1,3]))\n",
        "      except ValueError:\n",
        "        pass\n",
        "\n",
        "    # eATR\n",
        "    df['eATR'] = df['TR'].ewm(span=n, adjust=False).mean()\n",
        "           \n",
        "    return df['eATR']"
      ],
      "execution_count": null,
      "outputs": []
    },
    {
      "cell_type": "code",
      "metadata": {
        "colab": {
          "base_uri": "https://localhost:8080/",
          "height": 106
        },
        "id": "ZJnjMa791AH-",
        "outputId": "742d3b70-ef4c-40f0-e097-86fb00c49f5f"
      },
      "source": [
        "data = get_data(pairs[0])\n",
        "data.head(1)"
      ],
      "execution_count": null,
      "outputs": [
        {
          "output_type": "execute_result",
          "data": {
            "text/html": [
              "<div>\n",
              "<style scoped>\n",
              "    .dataframe tbody tr th:only-of-type {\n",
              "        vertical-align: middle;\n",
              "    }\n",
              "\n",
              "    .dataframe tbody tr th {\n",
              "        vertical-align: top;\n",
              "    }\n",
              "\n",
              "    .dataframe thead th {\n",
              "        text-align: right;\n",
              "    }\n",
              "</style>\n",
              "<table border=\"1\" class=\"dataframe\">\n",
              "  <thead>\n",
              "    <tr style=\"text-align: right;\">\n",
              "      <th></th>\n",
              "      <th>Open</th>\n",
              "      <th>High</th>\n",
              "      <th>Low</th>\n",
              "      <th>Close</th>\n",
              "    </tr>\n",
              "    <tr>\n",
              "      <th>Date</th>\n",
              "      <th></th>\n",
              "      <th></th>\n",
              "      <th></th>\n",
              "      <th></th>\n",
              "    </tr>\n",
              "  </thead>\n",
              "  <tbody>\n",
              "    <tr>\n",
              "      <th>2003-12-01</th>\n",
              "      <td>0.93995</td>\n",
              "      <td>0.94965</td>\n",
              "      <td>0.93789</td>\n",
              "      <td>0.94888</td>\n",
              "    </tr>\n",
              "  </tbody>\n",
              "</table>\n",
              "</div>"
            ],
            "text/plain": [
              "               Open     High      Low    Close\n",
              "Date                                          \n",
              "2003-12-01  0.93995  0.94965  0.93789  0.94888"
            ]
          },
          "metadata": {
            "tags": []
          },
          "execution_count": 11
        }
      ]
    },
    {
      "cell_type": "code",
      "metadata": {
        "id": "PZB4tYKn25Pt"
      },
      "source": [
        "def ssl(df1):\n",
        "  df = df1.copy()\n",
        "  df['smaHigh'] = df['High'].rolling(window=10).mean()\n",
        "  df['smaLow'] = df['Low'].rolling(window=10).mean()\n",
        "  df['hlv'] = 0\n",
        "  df['hlv'] = np.where(df['Close'] > df['smaHigh'],1,np.where(df['Close'] < df['smaLow'],-1,df['hlv'].shift(1)))\n",
        "  df['sslDown'] = np.where(df['hlv'] < 0, df['smaHigh'], df['smaLow'])\n",
        "  df['sslUp'] = np.where(df['hlv'] < 0, df['smaLow'], df['smaHigh'])\n",
        "  df['sslPosition'] = np.where(df['Close'] > df['sslUp'], 1,\n",
        "                               np.where(df['Close'] < df['sslDown'], -1, 0))\n",
        "  return df[['sslDown', 'sslUp', 'sslPosition']]"
      ],
      "execution_count": null,
      "outputs": []
    },
    {
      "cell_type": "code",
      "metadata": {
        "id": "VMyJ5sXC3BTp"
      },
      "source": [
        "# Waddah Attar\n",
        "def WAE(df1):\n",
        "  df = df1.copy()\n",
        "\n",
        "  # EMA\n",
        "  long_ema = df.loc[:,'Close'].ewm(span=40, adjust=False).mean()\n",
        "  short_ema = df.loc[:,'Close'].ewm(span=20, adjust=False).mean()\n",
        "\n",
        "  # MACD\n",
        "  MACD = short_ema - long_ema\n",
        "  \n",
        "  # bBands\n",
        "  sma20 = df.loc[:,'Close'].rolling(window=20).mean()  # 20 SMA\n",
        "    \n",
        "  stddev = df.loc[:,'Close'].rolling(window=20).std() # 20 STDdev\n",
        "  lower_band = sma20 - (2 * stddev)\n",
        "  upper_band = sma20 + (2 * stddev)\n",
        "\n",
        "  #Waddah Attar\n",
        "  t1 = (MACD - MACD.shift(1))* 150\n",
        "  #t2 = MACD.shift(2) - MACD.shift(3)\n",
        "  df['e1'] = upper_band - lower_band\n",
        "  df['e2'] = -1 *df['e1']\n",
        "  #e2 = upper_band.shift(1) - lower_band.shift(1)\n",
        "\n",
        "  df['trendUp'] = np.where(t1 > 0, t1, 0)\n",
        "  df['trendDown'] =  np.where(t1 < 0, t1, 0)\n",
        "\n",
        "  df['waePosition'] = np.where(df['trendUp'] > 0, 1,\n",
        "                               np.where(df['trendDown'] < 0, -1, 0))\n",
        "  \n",
        "  \n",
        "  return df[['e1','e2','trendUp', 'trendDown', 'waePosition']]\n"
      ],
      "execution_count": null,
      "outputs": []
    },
    {
      "cell_type": "code",
      "metadata": {
        "id": "64QBDao04QB8"
      },
      "source": [
        "def lag_feat(data1):\n",
        "  data = data1.copy()\n",
        "  lags = 8\n",
        "  cols = []\n",
        "  for lag in range(1, lags + 1):\n",
        "    col = f'lag_{lag}'\n",
        "    data[col] = data['ret'].shift(lag)\n",
        "    cols.append(col)\n",
        "  return data[cols]"
      ],
      "execution_count": null,
      "outputs": []
    },
    {
      "cell_type": "code",
      "metadata": {
        "id": "77nTPYJPi-8_"
      },
      "source": [
        "\n",
        "def datepart_feat(df0, colname = 'Date'):\n",
        "    \"\"\"This function adds some common pandas date parts like 'year',\n",
        "        'month' etc as features to a dataframe\n",
        "    \"\"\"\n",
        "    df = df0.copy()\n",
        "    df.reset_index(inplace=True)\n",
        "    df1 = df.loc[:,colname]\n",
        "    nu_feats = ['Year', 'Month', 'Day', 'Dayofweek', 'daysinmonth',\n",
        "            'Dayofyear', 'Is_month_end', 'Is_month_start', 'quarter',\n",
        "            'Is_quarter_end', 'Is_quarter_start', 'Is_year_end', \n",
        "            'Is_year_start']\n",
        "    \n",
        "    targ_pre = re.sub('[Dd]ate$', '', colname)\n",
        "    for n in nu_feats:\n",
        "        df[targ_pre+n] = getattr(df1.dt,n.lower())\n",
        "\n",
        "    df[targ_pre+'week'] = df1.dt.isocalendar().week.astype(np.int64)\n",
        "    df[targ_pre+'Elapsed'] = df1.astype(np.int64) // 10**9\n",
        "    nu_feats.extend(['week', 'Elapsed'])\n",
        "    df.set_index(colname, inplace=True)\n",
        "    return df[nu_feats]"
      ],
      "execution_count": null,
      "outputs": []
    },
    {
      "cell_type": "code",
      "metadata": {
        "id": "fbunZN7b4V5p"
      },
      "source": [
        "def gen_feat(pair):\n",
        "  df0 = get_data(pair).iloc[-4200:,]\n",
        "  df0['ret'] = df0['Close'].pct_change()\n",
        "  df0['dir'] = np.sign(df0['ret'])\n",
        "  eATR_ = eATR(df0).shift(1)\n",
        "  wae = WAE(df0).shift(1)\n",
        "  ssl1 = ssl(df0).shift(1)\n",
        "  datepart = datepart_feat(df0)\n",
        "  lags = lag_feat(df0)\n",
        "  return pd.concat([df0,  eATR_, wae, ssl1, datepart, lags], axis=1).dropna()"
      ],
      "execution_count": null,
      "outputs": []
    },
    {
      "cell_type": "code",
      "metadata": {
        "colab": {
          "base_uri": "https://localhost:8080/",
          "height": 329
        },
        "id": "dlzR7a3Q3eEC",
        "outputId": "c79627e1-07d1-4954-bbb4-e8017ceda33b"
      },
      "source": [
        "dataset = gen_feat(pairs[0])\n",
        "dataset.drop(['Open', 'High', 'Low'], axis=1, inplace=True)\n",
        "dataset.tail()"
      ],
      "execution_count": null,
      "outputs": [
        {
          "output_type": "execute_result",
          "data": {
            "text/html": [
              "<div>\n",
              "<style scoped>\n",
              "    .dataframe tbody tr th:only-of-type {\n",
              "        vertical-align: middle;\n",
              "    }\n",
              "\n",
              "    .dataframe tbody tr th {\n",
              "        vertical-align: top;\n",
              "    }\n",
              "\n",
              "    .dataframe thead th {\n",
              "        text-align: right;\n",
              "    }\n",
              "</style>\n",
              "<table border=\"1\" class=\"dataframe\">\n",
              "  <thead>\n",
              "    <tr style=\"text-align: right;\">\n",
              "      <th></th>\n",
              "      <th>Close</th>\n",
              "      <th>ret</th>\n",
              "      <th>dir</th>\n",
              "      <th>eATR</th>\n",
              "      <th>e1</th>\n",
              "      <th>e2</th>\n",
              "      <th>trendUp</th>\n",
              "      <th>trendDown</th>\n",
              "      <th>waePosition</th>\n",
              "      <th>sslDown</th>\n",
              "      <th>sslUp</th>\n",
              "      <th>sslPosition</th>\n",
              "      <th>Year</th>\n",
              "      <th>Month</th>\n",
              "      <th>Day</th>\n",
              "      <th>Dayofweek</th>\n",
              "      <th>daysinmonth</th>\n",
              "      <th>Dayofyear</th>\n",
              "      <th>Is_month_end</th>\n",
              "      <th>Is_month_start</th>\n",
              "      <th>quarter</th>\n",
              "      <th>Is_quarter_end</th>\n",
              "      <th>Is_quarter_start</th>\n",
              "      <th>Is_year_end</th>\n",
              "      <th>Is_year_start</th>\n",
              "      <th>week</th>\n",
              "      <th>Elapsed</th>\n",
              "      <th>lag_1</th>\n",
              "      <th>lag_2</th>\n",
              "      <th>lag_3</th>\n",
              "      <th>lag_4</th>\n",
              "      <th>lag_5</th>\n",
              "      <th>lag_6</th>\n",
              "      <th>lag_7</th>\n",
              "      <th>lag_8</th>\n",
              "    </tr>\n",
              "    <tr>\n",
              "      <th>Date</th>\n",
              "      <th></th>\n",
              "      <th></th>\n",
              "      <th></th>\n",
              "      <th></th>\n",
              "      <th></th>\n",
              "      <th></th>\n",
              "      <th></th>\n",
              "      <th></th>\n",
              "      <th></th>\n",
              "      <th></th>\n",
              "      <th></th>\n",
              "      <th></th>\n",
              "      <th></th>\n",
              "      <th></th>\n",
              "      <th></th>\n",
              "      <th></th>\n",
              "      <th></th>\n",
              "      <th></th>\n",
              "      <th></th>\n",
              "      <th></th>\n",
              "      <th></th>\n",
              "      <th></th>\n",
              "      <th></th>\n",
              "      <th></th>\n",
              "      <th></th>\n",
              "      <th></th>\n",
              "      <th></th>\n",
              "      <th></th>\n",
              "      <th></th>\n",
              "      <th></th>\n",
              "      <th></th>\n",
              "      <th></th>\n",
              "      <th></th>\n",
              "      <th></th>\n",
              "      <th></th>\n",
              "    </tr>\n",
              "  </thead>\n",
              "  <tbody>\n",
              "    <tr>\n",
              "      <th>2021-03-23</th>\n",
              "      <td>0.969710</td>\n",
              "      <td>0.002782</td>\n",
              "      <td>1.0</td>\n",
              "      <td>0.007199</td>\n",
              "      <td>0.044662</td>\n",
              "      <td>-0.044662</td>\n",
              "      <td>0.0</td>\n",
              "      <td>-0.043324</td>\n",
              "      <td>-1.0</td>\n",
              "      <td>0.966522</td>\n",
              "      <td>0.972113</td>\n",
              "      <td>0.0</td>\n",
              "      <td>2021</td>\n",
              "      <td>3</td>\n",
              "      <td>23</td>\n",
              "      <td>1</td>\n",
              "      <td>31</td>\n",
              "      <td>82</td>\n",
              "      <td>False</td>\n",
              "      <td>False</td>\n",
              "      <td>1</td>\n",
              "      <td>False</td>\n",
              "      <td>False</td>\n",
              "      <td>False</td>\n",
              "      <td>False</td>\n",
              "      <td>12</td>\n",
              "      <td>1616457600</td>\n",
              "      <td>-0.001454</td>\n",
              "      <td>0.000856</td>\n",
              "      <td>0.004047</td>\n",
              "      <td>-0.002896</td>\n",
              "      <td>-0.001375</td>\n",
              "      <td>-0.008208</td>\n",
              "      <td>0.000759</td>\n",
              "      <td>-0.000385</td>\n",
              "    </tr>\n",
              "    <tr>\n",
              "      <th>2021-03-24</th>\n",
              "      <td>0.957383</td>\n",
              "      <td>-0.012712</td>\n",
              "      <td>-1.0</td>\n",
              "      <td>0.007105</td>\n",
              "      <td>0.041319</td>\n",
              "      <td>-0.041319</td>\n",
              "      <td>0.0</td>\n",
              "      <td>-0.016879</td>\n",
              "      <td>-1.0</td>\n",
              "      <td>0.966182</td>\n",
              "      <td>0.971627</td>\n",
              "      <td>0.0</td>\n",
              "      <td>2021</td>\n",
              "      <td>3</td>\n",
              "      <td>24</td>\n",
              "      <td>2</td>\n",
              "      <td>31</td>\n",
              "      <td>83</td>\n",
              "      <td>False</td>\n",
              "      <td>False</td>\n",
              "      <td>1</td>\n",
              "      <td>False</td>\n",
              "      <td>False</td>\n",
              "      <td>False</td>\n",
              "      <td>False</td>\n",
              "      <td>12</td>\n",
              "      <td>1616544000</td>\n",
              "      <td>0.002782</td>\n",
              "      <td>-0.001454</td>\n",
              "      <td>0.000856</td>\n",
              "      <td>0.004047</td>\n",
              "      <td>-0.002896</td>\n",
              "      <td>-0.001375</td>\n",
              "      <td>-0.008208</td>\n",
              "      <td>0.000759</td>\n",
              "    </tr>\n",
              "    <tr>\n",
              "      <th>2021-03-25</th>\n",
              "      <td>0.954794</td>\n",
              "      <td>-0.002704</td>\n",
              "      <td>-1.0</td>\n",
              "      <td>0.008066</td>\n",
              "      <td>0.040934</td>\n",
              "      <td>-0.040934</td>\n",
              "      <td>0.0</td>\n",
              "      <td>-0.098690</td>\n",
              "      <td>-1.0</td>\n",
              "      <td>0.969797</td>\n",
              "      <td>0.964505</td>\n",
              "      <td>-1.0</td>\n",
              "      <td>2021</td>\n",
              "      <td>3</td>\n",
              "      <td>25</td>\n",
              "      <td>3</td>\n",
              "      <td>31</td>\n",
              "      <td>84</td>\n",
              "      <td>False</td>\n",
              "      <td>False</td>\n",
              "      <td>1</td>\n",
              "      <td>False</td>\n",
              "      <td>False</td>\n",
              "      <td>False</td>\n",
              "      <td>False</td>\n",
              "      <td>12</td>\n",
              "      <td>1616630400</td>\n",
              "      <td>-0.012712</td>\n",
              "      <td>0.002782</td>\n",
              "      <td>-0.001454</td>\n",
              "      <td>0.000856</td>\n",
              "      <td>0.004047</td>\n",
              "      <td>-0.002896</td>\n",
              "      <td>-0.001375</td>\n",
              "      <td>-0.008208</td>\n",
              "    </tr>\n",
              "    <tr>\n",
              "      <th>2021-03-26</th>\n",
              "      <td>0.956957</td>\n",
              "      <td>0.002265</td>\n",
              "      <td>1.0</td>\n",
              "      <td>0.007584</td>\n",
              "      <td>0.039112</td>\n",
              "      <td>-0.039112</td>\n",
              "      <td>0.0</td>\n",
              "      <td>-0.100779</td>\n",
              "      <td>-1.0</td>\n",
              "      <td>0.967594</td>\n",
              "      <td>0.962348</td>\n",
              "      <td>-1.0</td>\n",
              "      <td>2021</td>\n",
              "      <td>3</td>\n",
              "      <td>26</td>\n",
              "      <td>4</td>\n",
              "      <td>31</td>\n",
              "      <td>85</td>\n",
              "      <td>False</td>\n",
              "      <td>False</td>\n",
              "      <td>1</td>\n",
              "      <td>False</td>\n",
              "      <td>False</td>\n",
              "      <td>False</td>\n",
              "      <td>False</td>\n",
              "      <td>12</td>\n",
              "      <td>1616716800</td>\n",
              "      <td>-0.002704</td>\n",
              "      <td>-0.012712</td>\n",
              "      <td>0.002782</td>\n",
              "      <td>-0.001454</td>\n",
              "      <td>0.000856</td>\n",
              "      <td>0.004047</td>\n",
              "      <td>-0.002896</td>\n",
              "      <td>-0.001375</td>\n",
              "    </tr>\n",
              "    <tr>\n",
              "      <th>2021-03-29</th>\n",
              "      <td>0.962240</td>\n",
              "      <td>0.005521</td>\n",
              "      <td>1.0</td>\n",
              "      <td>0.007232</td>\n",
              "      <td>0.037237</td>\n",
              "      <td>-0.037237</td>\n",
              "      <td>0.0</td>\n",
              "      <td>-0.068994</td>\n",
              "      <td>-1.0</td>\n",
              "      <td>0.965862</td>\n",
              "      <td>0.961142</td>\n",
              "      <td>-1.0</td>\n",
              "      <td>2021</td>\n",
              "      <td>3</td>\n",
              "      <td>29</td>\n",
              "      <td>0</td>\n",
              "      <td>31</td>\n",
              "      <td>88</td>\n",
              "      <td>False</td>\n",
              "      <td>False</td>\n",
              "      <td>1</td>\n",
              "      <td>False</td>\n",
              "      <td>False</td>\n",
              "      <td>False</td>\n",
              "      <td>False</td>\n",
              "      <td>13</td>\n",
              "      <td>1616976000</td>\n",
              "      <td>0.002265</td>\n",
              "      <td>-0.002704</td>\n",
              "      <td>-0.012712</td>\n",
              "      <td>0.002782</td>\n",
              "      <td>-0.001454</td>\n",
              "      <td>0.000856</td>\n",
              "      <td>0.004047</td>\n",
              "      <td>-0.002896</td>\n",
              "    </tr>\n",
              "  </tbody>\n",
              "</table>\n",
              "</div>"
            ],
            "text/plain": [
              "               Close       ret  dir      eATR        e1        e2  trendUp  \\\n",
              "Date                                                                         \n",
              "2021-03-23  0.969710  0.002782  1.0  0.007199  0.044662 -0.044662      0.0   \n",
              "2021-03-24  0.957383 -0.012712 -1.0  0.007105  0.041319 -0.041319      0.0   \n",
              "2021-03-25  0.954794 -0.002704 -1.0  0.008066  0.040934 -0.040934      0.0   \n",
              "2021-03-26  0.956957  0.002265  1.0  0.007584  0.039112 -0.039112      0.0   \n",
              "2021-03-29  0.962240  0.005521  1.0  0.007232  0.037237 -0.037237      0.0   \n",
              "\n",
              "            trendDown  waePosition   sslDown     sslUp  sslPosition  Year  \\\n",
              "Date                                                                        \n",
              "2021-03-23  -0.043324         -1.0  0.966522  0.972113          0.0  2021   \n",
              "2021-03-24  -0.016879         -1.0  0.966182  0.971627          0.0  2021   \n",
              "2021-03-25  -0.098690         -1.0  0.969797  0.964505         -1.0  2021   \n",
              "2021-03-26  -0.100779         -1.0  0.967594  0.962348         -1.0  2021   \n",
              "2021-03-29  -0.068994         -1.0  0.965862  0.961142         -1.0  2021   \n",
              "\n",
              "            Month  Day  Dayofweek  daysinmonth  Dayofyear  Is_month_end  \\\n",
              "Date                                                                      \n",
              "2021-03-23      3   23          1           31         82         False   \n",
              "2021-03-24      3   24          2           31         83         False   \n",
              "2021-03-25      3   25          3           31         84         False   \n",
              "2021-03-26      3   26          4           31         85         False   \n",
              "2021-03-29      3   29          0           31         88         False   \n",
              "\n",
              "            Is_month_start  quarter  Is_quarter_end  Is_quarter_start  \\\n",
              "Date                                                                    \n",
              "2021-03-23           False        1           False             False   \n",
              "2021-03-24           False        1           False             False   \n",
              "2021-03-25           False        1           False             False   \n",
              "2021-03-26           False        1           False             False   \n",
              "2021-03-29           False        1           False             False   \n",
              "\n",
              "            Is_year_end  Is_year_start  week     Elapsed     lag_1     lag_2  \\\n",
              "Date                                                                           \n",
              "2021-03-23        False          False    12  1616457600 -0.001454  0.000856   \n",
              "2021-03-24        False          False    12  1616544000  0.002782 -0.001454   \n",
              "2021-03-25        False          False    12  1616630400 -0.012712  0.002782   \n",
              "2021-03-26        False          False    12  1616716800 -0.002704 -0.012712   \n",
              "2021-03-29        False          False    13  1616976000  0.002265 -0.002704   \n",
              "\n",
              "               lag_3     lag_4     lag_5     lag_6     lag_7     lag_8  \n",
              "Date                                                                    \n",
              "2021-03-23  0.004047 -0.002896 -0.001375 -0.008208  0.000759 -0.000385  \n",
              "2021-03-24  0.000856  0.004047 -0.002896 -0.001375 -0.008208  0.000759  \n",
              "2021-03-25 -0.001454  0.000856  0.004047 -0.002896 -0.001375 -0.008208  \n",
              "2021-03-26  0.002782 -0.001454  0.000856  0.004047 -0.002896 -0.001375  \n",
              "2021-03-29 -0.012712  0.002782 -0.001454  0.000856  0.004047 -0.002896  "
            ]
          },
          "metadata": {
            "tags": []
          },
          "execution_count": 119
        }
      ]
    },
    {
      "cell_type": "code",
      "metadata": {
        "id": "otGRwzJ75FfM",
        "colab": {
          "base_uri": "https://localhost:8080/"
        },
        "outputId": "9d70b24b-ae1f-43d2-e194-61049ec0eb1d"
      },
      "source": [
        "cols = list(dataset.columns)\n",
        "\n",
        "print(cols)"
      ],
      "execution_count": null,
      "outputs": [
        {
          "output_type": "stream",
          "text": [
            "['Close', 'ret', 'dir', 'eATR', 'e1', 'e2', 'trendUp', 'trendDown', 'waePosition', 'sslDown', 'sslUp', 'sslPosition', 'Year', 'Month', 'Day', 'Dayofweek', 'daysinmonth', 'Dayofyear', 'Is_month_end', 'Is_month_start', 'quarter', 'Is_quarter_end', 'Is_quarter_start', 'Is_year_end', 'Is_year_start', 'week', 'Elapsed', 'lag_1', 'lag_2', 'lag_3', 'lag_4', 'lag_5', 'lag_6', 'lag_7', 'lag_8']\n"
          ],
          "name": "stdout"
        }
      ]
    },
    {
      "cell_type": "code",
      "metadata": {
        "id": "rn5AgqWbo1BU"
      },
      "source": [
        "feats = cols[2:]"
      ],
      "execution_count": null,
      "outputs": []
    },
    {
      "cell_type": "code",
      "metadata": {
        "colab": {
          "base_uri": "https://localhost:8080/"
        },
        "id": "R0_zLtWMlTz4",
        "outputId": "506e271f-65c6-43d0-d55b-fb6581ceef66"
      },
      "source": [
        "df_train.info()"
      ],
      "execution_count": null,
      "outputs": [
        {
          "output_type": "stream",
          "text": [
            "<class 'pandas.core.frame.DataFrame'>\n",
            "DatetimeIndex: 2976 entries, 2005-03-22 to 2017-03-31\n",
            "Data columns (total 35 columns):\n",
            " #   Column            Non-Null Count  Dtype  \n",
            "---  ------            --------------  -----  \n",
            " 0   Close             2976 non-null   float64\n",
            " 1   ret               2976 non-null   float64\n",
            " 2   dir               2976 non-null   float64\n",
            " 3   eATR              2976 non-null   float64\n",
            " 4   e1                2976 non-null   float64\n",
            " 5   e2                2976 non-null   float64\n",
            " 6   trendUp           2976 non-null   float64\n",
            " 7   trendDown         2976 non-null   float64\n",
            " 8   waePosition       2976 non-null   float64\n",
            " 9   sslDown           2976 non-null   float64\n",
            " 10  sslUp             2976 non-null   float64\n",
            " 11  sslPosition       2976 non-null   float64\n",
            " 12  Year              2976 non-null   int64  \n",
            " 13  Month             2976 non-null   int64  \n",
            " 14  Day               2976 non-null   int64  \n",
            " 15  Dayofweek         2976 non-null   int64  \n",
            " 16  daysinmonth       2976 non-null   int64  \n",
            " 17  Dayofyear         2976 non-null   int64  \n",
            " 18  Is_month_end      2976 non-null   bool   \n",
            " 19  Is_month_start    2976 non-null   bool   \n",
            " 20  quarter           2976 non-null   int64  \n",
            " 21  Is_quarter_end    2976 non-null   bool   \n",
            " 22  Is_quarter_start  2976 non-null   bool   \n",
            " 23  Is_year_end       2976 non-null   bool   \n",
            " 24  Is_year_start     2976 non-null   bool   \n",
            " 25  week              2976 non-null   UInt32 \n",
            " 26  Elapsed           2976 non-null   int64  \n",
            " 27  lag_1             2976 non-null   float64\n",
            " 28  lag_2             2976 non-null   float64\n",
            " 29  lag_3             2976 non-null   float64\n",
            " 30  lag_4             2976 non-null   float64\n",
            " 31  lag_5             2976 non-null   float64\n",
            " 32  lag_6             2976 non-null   float64\n",
            " 33  lag_7             2976 non-null   float64\n",
            " 34  lag_8             2976 non-null   float64\n",
            "dtypes: UInt32(1), bool(6), float64(20), int64(8)\n",
            "memory usage: 706.2 KB\n"
          ],
          "name": "stdout"
        }
      ]
    },
    {
      "cell_type": "code",
      "metadata": {
        "id": "FlxdEr3rB0sS"
      },
      "source": [
        "df_train = dataset.iloc[:-1000,:]\n",
        "train = df_train.copy()\n",
        "df_test = dataset.iloc[-1000:,:]\n",
        "test = df_test.copy()"
      ],
      "execution_count": null,
      "outputs": []
    },
    {
      "cell_type": "code",
      "metadata": {
        "id": "E8XonyJh8Cps"
      },
      "source": [
        "dep_var = 'dir'"
      ],
      "execution_count": null,
      "outputs": []
    },
    {
      "cell_type": "markdown",
      "metadata": {
        "id": "QDoM_fp-y4mi"
      },
      "source": [
        "### Using *FastAI* and *Random Forest* to Predict Market Direction."
      ]
    },
    {
      "cell_type": "code",
      "metadata": {
        "id": "0me5-Ui78ygW"
      },
      "source": [
        "procs = [Categorify, FillMissing]"
      ],
      "execution_count": null,
      "outputs": []
    },
    {
      "cell_type": "code",
      "metadata": {
        "id": "zXTE2JMk8yYk"
      },
      "source": [
        "cond = df_train.Year<2015"
      ],
      "execution_count": null,
      "outputs": []
    },
    {
      "cell_type": "code",
      "metadata": {
        "id": "IFhlXcCN8yNp"
      },
      "source": [
        "train_idx = np.where(cond)[0]\n",
        "valid_idx = np.where(~cond)[0]"
      ],
      "execution_count": null,
      "outputs": []
    },
    {
      "cell_type": "code",
      "metadata": {
        "id": "y7PbQmKOHUAv"
      },
      "source": [
        "splits = (list(train_idx),list(valid_idx))"
      ],
      "execution_count": null,
      "outputs": []
    },
    {
      "cell_type": "code",
      "metadata": {
        "id": "E8l8dl9_-6m7"
      },
      "source": [
        "cont,cat = cont_cat_split(train[feats], 1, dep_var=dep_var)"
      ],
      "execution_count": null,
      "outputs": []
    },
    {
      "cell_type": "code",
      "metadata": {
        "id": "7x0uUNlN-6kC"
      },
      "source": [
        "to = TabularPandas(train[feats], procs, cat, cont, y_names=dep_var, splits=splits)"
      ],
      "execution_count": null,
      "outputs": []
    },
    {
      "cell_type": "code",
      "metadata": {
        "colab": {
          "base_uri": "https://localhost:8080/"
        },
        "id": "u4ni2Uw_HcfO",
        "outputId": "7a00520c-2f1b-48a9-a631-89ea5716771f"
      },
      "source": [
        "len(to.train),len(to.valid)"
      ],
      "execution_count": null,
      "outputs": [
        {
          "output_type": "execute_result",
          "data": {
            "text/plain": [
              "(2389, 587)"
            ]
          },
          "metadata": {
            "tags": []
          },
          "execution_count": 45
        }
      ]
    },
    {
      "cell_type": "code",
      "metadata": {
        "colab": {
          "base_uri": "https://localhost:8080/",
          "height": 236
        },
        "id": "tmD5O8FKHcbp",
        "outputId": "5974dfb3-b2b9-4447-8ddc-03a2898c4e34"
      },
      "source": [
        "to.show(3)"
      ],
      "execution_count": null,
      "outputs": [
        {
          "output_type": "display_data",
          "data": {
            "text/html": [
              "<table border=\"1\" class=\"dataframe\">\n",
              "  <thead>\n",
              "    <tr style=\"text-align: right;\">\n",
              "      <th></th>\n",
              "      <th>Is_month_end</th>\n",
              "      <th>Is_month_start</th>\n",
              "      <th>Is_quarter_end</th>\n",
              "      <th>Is_quarter_start</th>\n",
              "      <th>Is_year_end</th>\n",
              "      <th>Is_year_start</th>\n",
              "      <th>eATR</th>\n",
              "      <th>e1</th>\n",
              "      <th>e2</th>\n",
              "      <th>trendUp</th>\n",
              "      <th>trendDown</th>\n",
              "      <th>waePosition</th>\n",
              "      <th>sslDown</th>\n",
              "      <th>sslUp</th>\n",
              "      <th>sslPosition</th>\n",
              "      <th>Year</th>\n",
              "      <th>Month</th>\n",
              "      <th>Day</th>\n",
              "      <th>Dayofweek</th>\n",
              "      <th>daysinmonth</th>\n",
              "      <th>Dayofyear</th>\n",
              "      <th>quarter</th>\n",
              "      <th>week</th>\n",
              "      <th>Elapsed</th>\n",
              "      <th>lag_1</th>\n",
              "      <th>lag_2</th>\n",
              "      <th>lag_3</th>\n",
              "      <th>lag_4</th>\n",
              "      <th>lag_5</th>\n",
              "      <th>lag_6</th>\n",
              "      <th>lag_7</th>\n",
              "      <th>lag_8</th>\n",
              "      <th>dir</th>\n",
              "    </tr>\n",
              "    <tr>\n",
              "      <th>Date</th>\n",
              "      <th></th>\n",
              "      <th></th>\n",
              "      <th></th>\n",
              "      <th></th>\n",
              "      <th></th>\n",
              "      <th></th>\n",
              "      <th></th>\n",
              "      <th></th>\n",
              "      <th></th>\n",
              "      <th></th>\n",
              "      <th></th>\n",
              "      <th></th>\n",
              "      <th></th>\n",
              "      <th></th>\n",
              "      <th></th>\n",
              "      <th></th>\n",
              "      <th></th>\n",
              "      <th></th>\n",
              "      <th></th>\n",
              "      <th></th>\n",
              "      <th></th>\n",
              "      <th></th>\n",
              "      <th></th>\n",
              "      <th></th>\n",
              "      <th></th>\n",
              "      <th></th>\n",
              "      <th></th>\n",
              "      <th></th>\n",
              "      <th></th>\n",
              "      <th></th>\n",
              "      <th></th>\n",
              "      <th></th>\n",
              "      <th></th>\n",
              "    </tr>\n",
              "  </thead>\n",
              "  <tbody>\n",
              "    <tr>\n",
              "      <th>2005-03-22</th>\n",
              "      <td>False</td>\n",
              "      <td>False</td>\n",
              "      <td>False</td>\n",
              "      <td>False</td>\n",
              "      <td>False</td>\n",
              "      <td>False</td>\n",
              "      <td>0.008758</td>\n",
              "      <td>0.042487</td>\n",
              "      <td>-0.042487</td>\n",
              "      <td>0.0</td>\n",
              "      <td>-0.054178</td>\n",
              "      <td>-1.0</td>\n",
              "      <td>0.960269</td>\n",
              "      <td>0.951394</td>\n",
              "      <td>-1.0</td>\n",
              "      <td>2005</td>\n",
              "      <td>3</td>\n",
              "      <td>22</td>\n",
              "      <td>1</td>\n",
              "      <td>31</td>\n",
              "      <td>81</td>\n",
              "      <td>1</td>\n",
              "      <td>12</td>\n",
              "      <td>1111449600</td>\n",
              "      <td>-0.003911</td>\n",
              "      <td>0.001260</td>\n",
              "      <td>-0.003640</td>\n",
              "      <td>0.00320</td>\n",
              "      <td>0.001724</td>\n",
              "      <td>-0.006288</td>\n",
              "      <td>0.006676</td>\n",
              "      <td>-0.004490</td>\n",
              "      <td>-1.0</td>\n",
              "    </tr>\n",
              "    <tr>\n",
              "      <th>2005-03-23</th>\n",
              "      <td>False</td>\n",
              "      <td>False</td>\n",
              "      <td>False</td>\n",
              "      <td>False</td>\n",
              "      <td>False</td>\n",
              "      <td>False</td>\n",
              "      <td>0.009175</td>\n",
              "      <td>0.046538</td>\n",
              "      <td>-0.046538</td>\n",
              "      <td>0.0</td>\n",
              "      <td>-0.106762</td>\n",
              "      <td>-1.0</td>\n",
              "      <td>0.957847</td>\n",
              "      <td>0.948785</td>\n",
              "      <td>-1.0</td>\n",
              "      <td>2005</td>\n",
              "      <td>3</td>\n",
              "      <td>23</td>\n",
              "      <td>2</td>\n",
              "      <td>31</td>\n",
              "      <td>82</td>\n",
              "      <td>1</td>\n",
              "      <td>12</td>\n",
              "      <td>1111536000</td>\n",
              "      <td>-0.009567</td>\n",
              "      <td>-0.003911</td>\n",
              "      <td>0.001260</td>\n",
              "      <td>-0.00364</td>\n",
              "      <td>0.003200</td>\n",
              "      <td>0.001724</td>\n",
              "      <td>-0.006288</td>\n",
              "      <td>0.006676</td>\n",
              "      <td>-1.0</td>\n",
              "    </tr>\n",
              "    <tr>\n",
              "      <th>2005-03-24</th>\n",
              "      <td>False</td>\n",
              "      <td>False</td>\n",
              "      <td>False</td>\n",
              "      <td>False</td>\n",
              "      <td>False</td>\n",
              "      <td>False</td>\n",
              "      <td>0.009111</td>\n",
              "      <td>0.048157</td>\n",
              "      <td>-0.048157</td>\n",
              "      <td>0.0</td>\n",
              "      <td>-0.101138</td>\n",
              "      <td>-1.0</td>\n",
              "      <td>0.955513</td>\n",
              "      <td>0.947063</td>\n",
              "      <td>-1.0</td>\n",
              "      <td>2005</td>\n",
              "      <td>3</td>\n",
              "      <td>24</td>\n",
              "      <td>3</td>\n",
              "      <td>31</td>\n",
              "      <td>83</td>\n",
              "      <td>1</td>\n",
              "      <td>12</td>\n",
              "      <td>1111622400</td>\n",
              "      <td>-0.001977</td>\n",
              "      <td>-0.009567</td>\n",
              "      <td>-0.003911</td>\n",
              "      <td>0.00126</td>\n",
              "      <td>-0.003640</td>\n",
              "      <td>0.003200</td>\n",
              "      <td>0.001724</td>\n",
              "      <td>-0.006288</td>\n",
              "      <td>-1.0</td>\n",
              "    </tr>\n",
              "  </tbody>\n",
              "</table>"
            ],
            "text/plain": [
              "<IPython.core.display.HTML object>"
            ]
          },
          "metadata": {
            "tags": []
          }
        }
      ]
    },
    {
      "cell_type": "code",
      "metadata": {
        "colab": {
          "base_uri": "https://localhost:8080/",
          "height": 190
        },
        "id": "yqJuLD5rHcZN",
        "outputId": "f2d661dd-002b-41d7-d468-29adadc22907"
      },
      "source": [
        "to.items.head(2)"
      ],
      "execution_count": null,
      "outputs": [
        {
          "output_type": "execute_result",
          "data": {
            "text/html": [
              "<div>\n",
              "<style scoped>\n",
              "    .dataframe tbody tr th:only-of-type {\n",
              "        vertical-align: middle;\n",
              "    }\n",
              "\n",
              "    .dataframe tbody tr th {\n",
              "        vertical-align: top;\n",
              "    }\n",
              "\n",
              "    .dataframe thead th {\n",
              "        text-align: right;\n",
              "    }\n",
              "</style>\n",
              "<table border=\"1\" class=\"dataframe\">\n",
              "  <thead>\n",
              "    <tr style=\"text-align: right;\">\n",
              "      <th></th>\n",
              "      <th>dir</th>\n",
              "      <th>eATR</th>\n",
              "      <th>e1</th>\n",
              "      <th>e2</th>\n",
              "      <th>trendUp</th>\n",
              "      <th>trendDown</th>\n",
              "      <th>waePosition</th>\n",
              "      <th>sslDown</th>\n",
              "      <th>sslUp</th>\n",
              "      <th>sslPosition</th>\n",
              "      <th>Year</th>\n",
              "      <th>Month</th>\n",
              "      <th>Day</th>\n",
              "      <th>Dayofweek</th>\n",
              "      <th>daysinmonth</th>\n",
              "      <th>Dayofyear</th>\n",
              "      <th>Is_month_end</th>\n",
              "      <th>Is_month_start</th>\n",
              "      <th>quarter</th>\n",
              "      <th>Is_quarter_end</th>\n",
              "      <th>Is_quarter_start</th>\n",
              "      <th>Is_year_end</th>\n",
              "      <th>Is_year_start</th>\n",
              "      <th>week</th>\n",
              "      <th>Elapsed</th>\n",
              "      <th>lag_1</th>\n",
              "      <th>lag_2</th>\n",
              "      <th>lag_3</th>\n",
              "      <th>lag_4</th>\n",
              "      <th>lag_5</th>\n",
              "      <th>lag_6</th>\n",
              "      <th>lag_7</th>\n",
              "      <th>lag_8</th>\n",
              "    </tr>\n",
              "    <tr>\n",
              "      <th>Date</th>\n",
              "      <th></th>\n",
              "      <th></th>\n",
              "      <th></th>\n",
              "      <th></th>\n",
              "      <th></th>\n",
              "      <th></th>\n",
              "      <th></th>\n",
              "      <th></th>\n",
              "      <th></th>\n",
              "      <th></th>\n",
              "      <th></th>\n",
              "      <th></th>\n",
              "      <th></th>\n",
              "      <th></th>\n",
              "      <th></th>\n",
              "      <th></th>\n",
              "      <th></th>\n",
              "      <th></th>\n",
              "      <th></th>\n",
              "      <th></th>\n",
              "      <th></th>\n",
              "      <th></th>\n",
              "      <th></th>\n",
              "      <th></th>\n",
              "      <th></th>\n",
              "      <th></th>\n",
              "      <th></th>\n",
              "      <th></th>\n",
              "      <th></th>\n",
              "      <th></th>\n",
              "      <th></th>\n",
              "      <th></th>\n",
              "      <th></th>\n",
              "    </tr>\n",
              "  </thead>\n",
              "  <tbody>\n",
              "    <tr>\n",
              "      <th>2005-03-22</th>\n",
              "      <td>-1.0</td>\n",
              "      <td>0.008758</td>\n",
              "      <td>0.042487</td>\n",
              "      <td>-0.042487</td>\n",
              "      <td>0.0</td>\n",
              "      <td>-0.054178</td>\n",
              "      <td>-1.0</td>\n",
              "      <td>0.960269</td>\n",
              "      <td>0.951394</td>\n",
              "      <td>-1.0</td>\n",
              "      <td>2005</td>\n",
              "      <td>3</td>\n",
              "      <td>22</td>\n",
              "      <td>1</td>\n",
              "      <td>31</td>\n",
              "      <td>81</td>\n",
              "      <td>1</td>\n",
              "      <td>1</td>\n",
              "      <td>1</td>\n",
              "      <td>1</td>\n",
              "      <td>1</td>\n",
              "      <td>1</td>\n",
              "      <td>1</td>\n",
              "      <td>12</td>\n",
              "      <td>1111449600</td>\n",
              "      <td>-0.003911</td>\n",
              "      <td>0.001260</td>\n",
              "      <td>-0.00364</td>\n",
              "      <td>0.00320</td>\n",
              "      <td>0.001724</td>\n",
              "      <td>-0.006288</td>\n",
              "      <td>0.006676</td>\n",
              "      <td>-0.004490</td>\n",
              "    </tr>\n",
              "    <tr>\n",
              "      <th>2005-03-23</th>\n",
              "      <td>-1.0</td>\n",
              "      <td>0.009175</td>\n",
              "      <td>0.046538</td>\n",
              "      <td>-0.046538</td>\n",
              "      <td>0.0</td>\n",
              "      <td>-0.106762</td>\n",
              "      <td>-1.0</td>\n",
              "      <td>0.957847</td>\n",
              "      <td>0.948785</td>\n",
              "      <td>-1.0</td>\n",
              "      <td>2005</td>\n",
              "      <td>3</td>\n",
              "      <td>23</td>\n",
              "      <td>2</td>\n",
              "      <td>31</td>\n",
              "      <td>82</td>\n",
              "      <td>1</td>\n",
              "      <td>1</td>\n",
              "      <td>1</td>\n",
              "      <td>1</td>\n",
              "      <td>1</td>\n",
              "      <td>1</td>\n",
              "      <td>1</td>\n",
              "      <td>12</td>\n",
              "      <td>1111536000</td>\n",
              "      <td>-0.009567</td>\n",
              "      <td>-0.003911</td>\n",
              "      <td>0.00126</td>\n",
              "      <td>-0.00364</td>\n",
              "      <td>0.003200</td>\n",
              "      <td>0.001724</td>\n",
              "      <td>-0.006288</td>\n",
              "      <td>0.006676</td>\n",
              "    </tr>\n",
              "  </tbody>\n",
              "</table>\n",
              "</div>"
            ],
            "text/plain": [
              "            dir      eATR        e1        e2  trendUp  trendDown  \\\n",
              "Date                                                                \n",
              "2005-03-22 -1.0  0.008758  0.042487 -0.042487      0.0  -0.054178   \n",
              "2005-03-23 -1.0  0.009175  0.046538 -0.046538      0.0  -0.106762   \n",
              "\n",
              "            waePosition   sslDown     sslUp  sslPosition  Year  Month  Day  \\\n",
              "Date                                                                         \n",
              "2005-03-22         -1.0  0.960269  0.951394         -1.0  2005      3   22   \n",
              "2005-03-23         -1.0  0.957847  0.948785         -1.0  2005      3   23   \n",
              "\n",
              "            Dayofweek  daysinmonth  Dayofyear  Is_month_end  Is_month_start  \\\n",
              "Date                                                                          \n",
              "2005-03-22          1           31         81             1               1   \n",
              "2005-03-23          2           31         82             1               1   \n",
              "\n",
              "            quarter  Is_quarter_end  Is_quarter_start  Is_year_end  \\\n",
              "Date                                                                 \n",
              "2005-03-22        1               1                 1            1   \n",
              "2005-03-23        1               1                 1            1   \n",
              "\n",
              "            Is_year_start  week     Elapsed     lag_1     lag_2    lag_3  \\\n",
              "Date                                                                       \n",
              "2005-03-22              1    12  1111449600 -0.003911  0.001260 -0.00364   \n",
              "2005-03-23              1    12  1111536000 -0.009567 -0.003911  0.00126   \n",
              "\n",
              "              lag_4     lag_5     lag_6     lag_7     lag_8  \n",
              "Date                                                         \n",
              "2005-03-22  0.00320  0.001724 -0.006288  0.006676 -0.004490  \n",
              "2005-03-23 -0.00364  0.003200  0.001724 -0.006288  0.006676  "
            ]
          },
          "metadata": {
            "tags": []
          },
          "execution_count": 47
        }
      ]
    },
    {
      "cell_type": "code",
      "metadata": {
        "id": "rjHhsq0gQXdV"
      },
      "source": [
        "conti,categ = cont_cat_split(test[feats], 1, dep_var=dep_var)"
      ],
      "execution_count": null,
      "outputs": []
    },
    {
      "cell_type": "code",
      "metadata": {
        "id": "FzW3crzrRQQ1"
      },
      "source": [
        "to_t = TabularPandas(test[feats], procs, categ, conti, y_names=dep_var, splits=None)"
      ],
      "execution_count": null,
      "outputs": []
    },
    {
      "cell_type": "code",
      "metadata": {
        "id": "RkZdOwEJHcWl"
      },
      "source": [
        "save_pickle('to.pkl',to)"
      ],
      "execution_count": null,
      "outputs": []
    },
    {
      "cell_type": "code",
      "metadata": {
        "id": "RLfw6h_BHcTn"
      },
      "source": [
        "to = load_pickle('to.pkl')"
      ],
      "execution_count": null,
      "outputs": []
    },
    {
      "cell_type": "code",
      "metadata": {
        "id": "ABUQxnmALCJo"
      },
      "source": [
        "xs,y = to.train.xs,to.train.y\n",
        "valid_xs,valid_y = to.valid.xs,to.valid.y"
      ],
      "execution_count": null,
      "outputs": []
    },
    {
      "cell_type": "code",
      "metadata": {
        "id": "Ga9-bjyCLjwI"
      },
      "source": [
        "def rfc(xs, y, n_estimators=40, max_samples=2000,\n",
        "       max_features=0.5, min_samples_leaf=5, **kwargs):\n",
        "    return RandomForestClassifier(n_jobs=-1, n_estimators=n_estimators,\n",
        "        max_samples=max_samples, max_features=max_features,\n",
        "        min_samples_leaf=min_samples_leaf, oob_score=True).fit(xs, y)"
      ],
      "execution_count": null,
      "outputs": []
    },
    {
      "cell_type": "code",
      "metadata": {
        "id": "h1kTxMoWLCGt"
      },
      "source": [
        "m = rfc(xs, y);"
      ],
      "execution_count": null,
      "outputs": []
    },
    {
      "cell_type": "code",
      "metadata": {
        "id": "RV44z2CjLCBD"
      },
      "source": [
        "valid_pred = m.predict(valid_xs)"
      ],
      "execution_count": null,
      "outputs": []
    },
    {
      "cell_type": "code",
      "metadata": {
        "colab": {
          "base_uri": "https://localhost:8080/"
        },
        "id": "OlVo3LLbaLhc",
        "outputId": "27d3aa7c-0f3c-467a-e278-c580c32e9fac"
      },
      "source": [
        "valid_acc = accuracy_score(valid_y, valid_pred)\n",
        "print(f'Validation Accuracy: {valid_acc}')"
      ],
      "execution_count": null,
      "outputs": [
        {
          "output_type": "stream",
          "text": [
            "Validation Accuracy: 0.5076660988074957\n"
          ],
          "name": "stdout"
        }
      ]
    },
    {
      "cell_type": "code",
      "metadata": {
        "id": "Jf8STxLAVuQT"
      },
      "source": [
        "xs_t,y_t =  to_t.train.xs, to_t.train.ys.values.ravel()"
      ],
      "execution_count": null,
      "outputs": []
    },
    {
      "cell_type": "code",
      "metadata": {
        "id": "7aLwUYm7xXo6"
      },
      "source": [
        "test_pred = m.predict(test[feats[1:]])"
      ],
      "execution_count": null,
      "outputs": []
    },
    {
      "cell_type": "code",
      "metadata": {
        "colab": {
          "base_uri": "https://localhost:8080/"
        },
        "id": "ZCSKU6LPLB7T",
        "outputId": "1d66fbea-a6f5-45eb-db0a-42e5e4bd753c"
      },
      "source": [
        "test_acc = accuracy_score(test['dir'], test_pred)\n",
        "print(f'Test set Accuracy: {test_acc}')"
      ],
      "execution_count": null,
      "outputs": [
        {
          "output_type": "stream",
          "text": [
            "Test set Accuracy: 0.497\n"
          ],
          "name": "stdout"
        }
      ]
    },
    {
      "cell_type": "code",
      "metadata": {
        "id": "psMgQ2ANtTZd"
      },
      "source": [
        "test['prediction'] = test_pred"
      ],
      "execution_count": null,
      "outputs": []
    },
    {
      "cell_type": "code",
      "metadata": {
        "id": "inmX9azky4ml",
        "colab": {
          "base_uri": "https://localhost:8080/"
        },
        "outputId": "e41bcd8c-4349-49e6-93d9-dfcdcd19031b"
      },
      "source": [
        "test['prediction'].value_counts()"
      ],
      "execution_count": null,
      "outputs": [
        {
          "output_type": "execute_result",
          "data": {
            "text/plain": [
              "-1.0    989\n",
              " 1.0     11\n",
              "Name: prediction, dtype: int64"
            ]
          },
          "metadata": {
            "tags": []
          },
          "execution_count": 62
        }
      ]
    },
    {
      "cell_type": "code",
      "metadata": {
        "colab": {
          "base_uri": "https://localhost:8080/"
        },
        "id": "2W7T_tJMx60Z",
        "outputId": "d1c6e2e6-1499-4786-fd35-6242468bea3d"
      },
      "source": [
        "hits = np.sign(test['ret'] * test['prediction']).value_counts()\n",
        "hits"
      ],
      "execution_count": null,
      "outputs": [
        {
          "output_type": "execute_result",
          "data": {
            "text/plain": [
              "-1.0    502\n",
              " 1.0    497\n",
              " 0.0      1\n",
              "dtype: int64"
            ]
          },
          "metadata": {
            "tags": []
          },
          "execution_count": 63
        }
      ]
    },
    {
      "cell_type": "code",
      "metadata": {
        "id": "DSN3df9Ny4ml"
      },
      "source": [
        "test['strategy'] = (test['prediction'] * test['ret'])"
      ],
      "execution_count": null,
      "outputs": []
    },
    {
      "cell_type": "code",
      "metadata": {
        "id": "KxL4Pexby4mm",
        "colab": {
          "base_uri": "https://localhost:8080/"
        },
        "outputId": "06f6ac32-d24e-48f5-cd43-053cab1d655b"
      },
      "source": [
        "test[['ret', 'strategy']].sum().apply(np.exp)"
      ],
      "execution_count": null,
      "outputs": [
        {
          "output_type": "execute_result",
          "data": {
            "text/plain": [
              "ret         0.950590\n",
              "strategy    1.028697\n",
              "dtype: float64"
            ]
          },
          "metadata": {
            "tags": []
          },
          "execution_count": 65
        }
      ]
    },
    {
      "cell_type": "code",
      "metadata": {
        "id": "ZBQMsf1ty4mm",
        "colab": {
          "base_uri": "https://localhost:8080/",
          "height": 378
        },
        "outputId": "d9f9855f-6b81-4746-91bd-06630f6882b0"
      },
      "source": [
        "test[['ret', 'strategy']].cumsum(\n",
        "                ).apply(np.exp).plot(figsize=(10, 6));\n",
        "# plt.savefig('../../images/ch05/dl_plot_2.png')"
      ],
      "execution_count": null,
      "outputs": [
        {
          "output_type": "display_data",
          "data": {
            "image/png": "[encoded data removed]",
            "text/plain": [
              "<Figure size 720x432 with 1 Axes>"
            ]
          },
          "metadata": {
            "tags": []
          }
        }
      ]
    },
    {
      "cell_type": "code",
      "metadata": {
        "id": "cLuUJkNfurZi"
      },
      "source": [
        "def feat_imp(m, df):\n",
        "    return pd.DataFrame({'cols':df.columns, 'imp':m.feature_importances_}\n",
        "                       ).sort_values('imp', ascending=False) "
      ],
      "execution_count": null,
      "outputs": []
    },
    {
      "cell_type": "code",
      "metadata": {
        "colab": {
          "base_uri": "https://localhost:8080/",
          "height": 935
        },
        "id": "IVD7EvvMv2cA",
        "outputId": "fe2a4d40-e82e-4d1d-a4bf-b3a16a1c7452"
      },
      "source": [
        "f_i = feat_imp(m, xs)\n",
        "f_i[:30]"
      ],
      "execution_count": null,
      "outputs": [
        {
          "output_type": "execute_result",
          "data": {
            "text/html": [
              "<div>\n",
              "<style scoped>\n",
              "    .dataframe tbody tr th:only-of-type {\n",
              "        vertical-align: middle;\n",
              "    }\n",
              "\n",
              "    .dataframe tbody tr th {\n",
              "        vertical-align: top;\n",
              "    }\n",
              "\n",
              "    .dataframe thead th {\n",
              "        text-align: right;\n",
              "    }\n",
              "</style>\n",
              "<table border=\"1\" class=\"dataframe\">\n",
              "  <thead>\n",
              "    <tr style=\"text-align: right;\">\n",
              "      <th></th>\n",
              "      <th>cols</th>\n",
              "      <th>imp</th>\n",
              "    </tr>\n",
              "  </thead>\n",
              "  <tbody>\n",
              "    <tr>\n",
              "      <th>28</th>\n",
              "      <td>lag_5</td>\n",
              "      <td>0.068131</td>\n",
              "    </tr>\n",
              "    <tr>\n",
              "      <th>30</th>\n",
              "      <td>lag_7</td>\n",
              "      <td>0.062750</td>\n",
              "    </tr>\n",
              "    <tr>\n",
              "      <th>29</th>\n",
              "      <td>lag_6</td>\n",
              "      <td>0.061881</td>\n",
              "    </tr>\n",
              "    <tr>\n",
              "      <th>27</th>\n",
              "      <td>lag_4</td>\n",
              "      <td>0.061608</td>\n",
              "    </tr>\n",
              "    <tr>\n",
              "      <th>6</th>\n",
              "      <td>eATR</td>\n",
              "      <td>0.061286</td>\n",
              "    </tr>\n",
              "    <tr>\n",
              "      <th>24</th>\n",
              "      <td>lag_1</td>\n",
              "      <td>0.061230</td>\n",
              "    </tr>\n",
              "    <tr>\n",
              "      <th>26</th>\n",
              "      <td>lag_3</td>\n",
              "      <td>0.059669</td>\n",
              "    </tr>\n",
              "    <tr>\n",
              "      <th>31</th>\n",
              "      <td>lag_8</td>\n",
              "      <td>0.056129</td>\n",
              "    </tr>\n",
              "    <tr>\n",
              "      <th>25</th>\n",
              "      <td>lag_2</td>\n",
              "      <td>0.056055</td>\n",
              "    </tr>\n",
              "    <tr>\n",
              "      <th>8</th>\n",
              "      <td>e2</td>\n",
              "      <td>0.049108</td>\n",
              "    </tr>\n",
              "    <tr>\n",
              "      <th>13</th>\n",
              "      <td>sslUp</td>\n",
              "      <td>0.048228</td>\n",
              "    </tr>\n",
              "    <tr>\n",
              "      <th>7</th>\n",
              "      <td>e1</td>\n",
              "      <td>0.045400</td>\n",
              "    </tr>\n",
              "    <tr>\n",
              "      <th>23</th>\n",
              "      <td>Elapsed</td>\n",
              "      <td>0.044605</td>\n",
              "    </tr>\n",
              "    <tr>\n",
              "      <th>17</th>\n",
              "      <td>Day</td>\n",
              "      <td>0.042951</td>\n",
              "    </tr>\n",
              "    <tr>\n",
              "      <th>12</th>\n",
              "      <td>sslDown</td>\n",
              "      <td>0.039018</td>\n",
              "    </tr>\n",
              "    <tr>\n",
              "      <th>20</th>\n",
              "      <td>Dayofyear</td>\n",
              "      <td>0.037933</td>\n",
              "    </tr>\n",
              "    <tr>\n",
              "      <th>9</th>\n",
              "      <td>trendUp</td>\n",
              "      <td>0.035592</td>\n",
              "    </tr>\n",
              "    <tr>\n",
              "      <th>10</th>\n",
              "      <td>trendDown</td>\n",
              "      <td>0.026846</td>\n",
              "    </tr>\n",
              "    <tr>\n",
              "      <th>22</th>\n",
              "      <td>week</td>\n",
              "      <td>0.023924</td>\n",
              "    </tr>\n",
              "    <tr>\n",
              "      <th>18</th>\n",
              "      <td>Dayofweek</td>\n",
              "      <td>0.020450</td>\n",
              "    </tr>\n",
              "    <tr>\n",
              "      <th>16</th>\n",
              "      <td>Month</td>\n",
              "      <td>0.009370</td>\n",
              "    </tr>\n",
              "    <tr>\n",
              "      <th>15</th>\n",
              "      <td>Year</td>\n",
              "      <td>0.009360</td>\n",
              "    </tr>\n",
              "    <tr>\n",
              "      <th>19</th>\n",
              "      <td>daysinmonth</td>\n",
              "      <td>0.008685</td>\n",
              "    </tr>\n",
              "    <tr>\n",
              "      <th>14</th>\n",
              "      <td>sslPosition</td>\n",
              "      <td>0.004590</td>\n",
              "    </tr>\n",
              "    <tr>\n",
              "      <th>21</th>\n",
              "      <td>quarter</td>\n",
              "      <td>0.003553</td>\n",
              "    </tr>\n",
              "    <tr>\n",
              "      <th>11</th>\n",
              "      <td>waePosition</td>\n",
              "      <td>0.001079</td>\n",
              "    </tr>\n",
              "    <tr>\n",
              "      <th>0</th>\n",
              "      <td>Is_month_end</td>\n",
              "      <td>0.000389</td>\n",
              "    </tr>\n",
              "    <tr>\n",
              "      <th>1</th>\n",
              "      <td>Is_month_start</td>\n",
              "      <td>0.000180</td>\n",
              "    </tr>\n",
              "    <tr>\n",
              "      <th>5</th>\n",
              "      <td>Is_year_start</td>\n",
              "      <td>0.000000</td>\n",
              "    </tr>\n",
              "    <tr>\n",
              "      <th>4</th>\n",
              "      <td>Is_year_end</td>\n",
              "      <td>0.000000</td>\n",
              "    </tr>\n",
              "  </tbody>\n",
              "</table>\n",
              "</div>"
            ],
            "text/plain": [
              "              cols       imp\n",
              "28           lag_5  0.068131\n",
              "30           lag_7  0.062750\n",
              "29           lag_6  0.061881\n",
              "27           lag_4  0.061608\n",
              "6             eATR  0.061286\n",
              "24           lag_1  0.061230\n",
              "26           lag_3  0.059669\n",
              "31           lag_8  0.056129\n",
              "25           lag_2  0.056055\n",
              "8               e2  0.049108\n",
              "13           sslUp  0.048228\n",
              "7               e1  0.045400\n",
              "23         Elapsed  0.044605\n",
              "17             Day  0.042951\n",
              "12         sslDown  0.039018\n",
              "20       Dayofyear  0.037933\n",
              "9          trendUp  0.035592\n",
              "10       trendDown  0.026846\n",
              "22            week  0.023924\n",
              "18       Dayofweek  0.020450\n",
              "16           Month  0.009370\n",
              "15            Year  0.009360\n",
              "19     daysinmonth  0.008685\n",
              "14     sslPosition  0.004590\n",
              "21         quarter  0.003553\n",
              "11     waePosition  0.001079\n",
              "0     Is_month_end  0.000389\n",
              "1   Is_month_start  0.000180\n",
              "5    Is_year_start  0.000000\n",
              "4      Is_year_end  0.000000"
            ]
          },
          "metadata": {
            "tags": []
          },
          "execution_count": 68
        }
      ]
    },
    {
      "cell_type": "code",
      "metadata": {
        "colab": {
          "base_uri": "https://localhost:8080/",
          "height": 607
        },
        "id": "T9k2RGMFv7P9",
        "outputId": "3353d444-139e-4fd8-acbb-9ac24a04cb15"
      },
      "source": [
        "def plot_fi(fi):\n",
        "    return fi.plot('cols', 'imp', 'barh', figsize=(15,10),title='Random forest - feature importance', \n",
        "                   xlabel='Features', legend=False), plt.axvline(0.01, color='r', ls='--')\n",
        "\n",
        "plot_fi(f_i[:30]);"
      ],
      "execution_count": null,
      "outputs": [
        {
          "output_type": "display_data",
          "data": {
            "image/png": "[encoded data removed]",
            "text/plain": [
              "<Figure size 1080x720 with 1 Axes>"
            ]
          },
          "metadata": {
            "tags": []
          }
        }
      ]
    },
    {
      "cell_type": "code",
      "metadata": {
        "colab": {
          "base_uri": "https://localhost:8080/"
        },
        "id": "3Km_iAwpw4U9",
        "outputId": "1e3b30f3-7e0d-49cb-b095-66bf3585e205"
      },
      "source": [
        "to_keep = f_i[f_i.imp>0.01].cols\n",
        "len(to_keep)"
      ],
      "execution_count": null,
      "outputs": [
        {
          "output_type": "execute_result",
          "data": {
            "text/plain": [
              "20"
            ]
          },
          "metadata": {
            "tags": []
          },
          "execution_count": 70
        }
      ]
    },
    {
      "cell_type": "code",
      "metadata": {
        "id": "CgThpRsKyBSe"
      },
      "source": [
        "xs_imp = xs[to_keep]\n",
        "valid_xs_imp = valid_xs[to_keep]"
      ],
      "execution_count": null,
      "outputs": []
    },
    {
      "cell_type": "code",
      "metadata": {
        "id": "CmC8_48tyH_k"
      },
      "source": [
        "m = rfc(xs_imp, y)"
      ],
      "execution_count": null,
      "outputs": []
    },
    {
      "cell_type": "code",
      "metadata": {
        "id": "beKFP45uyUkB"
      },
      "source": [
        "valid_pred = m.predict(valid_xs_imp)"
      ],
      "execution_count": null,
      "outputs": []
    },
    {
      "cell_type": "code",
      "metadata": {
        "colab": {
          "base_uri": "https://localhost:8080/"
        },
        "id": "Ix-z0Sz8yyjh",
        "outputId": "2f37da9d-ca73-40e4-ab9c-40388aeaff31"
      },
      "source": [
        "valid_acc = accuracy_score(valid_y, valid_pred)\n",
        "print(f'Validation Accuracy: {valid_acc}')"
      ],
      "execution_count": null,
      "outputs": [
        {
          "output_type": "stream",
          "text": [
            "Validation Accuracy: 0.534923339011925\n"
          ],
          "name": "stdout"
        }
      ]
    },
    {
      "cell_type": "code",
      "metadata": {
        "id": "GCj0SmKQy1ud"
      },
      "source": [
        "test_pred = m.predict(test[to_keep])"
      ],
      "execution_count": null,
      "outputs": []
    },
    {
      "cell_type": "code",
      "metadata": {
        "colab": {
          "base_uri": "https://localhost:8080/"
        },
        "id": "N5uxsNpszenp",
        "outputId": "cc98bae0-88b6-4023-9cf8-75e301f6cfef"
      },
      "source": [
        "test_acc = accuracy_score(test['dir'], test_pred)\n",
        "print(f'Test set Accuracy: {test_acc}')"
      ],
      "execution_count": null,
      "outputs": [
        {
          "output_type": "stream",
          "text": [
            "Test set Accuracy: 0.492\n"
          ],
          "name": "stdout"
        }
      ]
    },
    {
      "cell_type": "code",
      "metadata": {
        "colab": {
          "base_uri": "https://localhost:8080/"
        },
        "id": "TcG9jBfn0TKM",
        "outputId": "315af278-9c11-45b2-f06f-714868394005"
      },
      "source": [
        "len(xs.columns), len(xs_imp.columns)"
      ],
      "execution_count": null,
      "outputs": [
        {
          "output_type": "execute_result",
          "data": {
            "text/plain": [
              "(32, 20)"
            ]
          },
          "metadata": {
            "tags": []
          },
          "execution_count": 77
        }
      ]
    },
    {
      "cell_type": "code",
      "metadata": {
        "colab": {
          "base_uri": "https://localhost:8080/",
          "height": 607
        },
        "id": "8xHJgunz0T3t",
        "outputId": "3b69e959-b49e-46c4-a5e4-3b3890c8b9a8"
      },
      "source": [
        "plot_fi(feat_imp(m, xs_imp));"
      ],
      "execution_count": null,
      "outputs": [
        {
          "output_type": "display_data",
          "data": {
            "image/png": "[encoded data removed]",
            "text/plain": [
              "<Figure size 1080x720 with 1 Axes>"
            ]
          },
          "metadata": {
            "tags": []
          }
        }
      ]
    },
    {
      "cell_type": "code",
      "metadata": {
        "colab": {
          "base_uri": "https://localhost:8080/",
          "height": 373
        },
        "id": "gwzz6sI80avS",
        "outputId": "005e54ed-b9ba-4a98-e908-4b60afe231b6"
      },
      "source": [
        "cluster_columns(xs_imp)"
      ],
      "execution_count": null,
      "outputs": [
        {
          "output_type": "display_data",
          "data": {
            "image/png": "[encoded data removed]",
            "text/plain": [
              "<Figure size 720x432 with 1 Axes>"
            ]
          },
          "metadata": {
            "tags": []
          }
        }
      ]
    },
    {
      "cell_type": "code",
      "metadata": {
        "id": "QqPqyVfc0xPE"
      },
      "source": [
        "def get_oob(df):\n",
        "    m = RandomForestClassifier(n_estimators=40, min_samples_leaf=15,\n",
        "        max_samples=2000, max_features=0.5, n_jobs=-1, oob_score=True)\n",
        "    m.fit(df, y)\n",
        "    return m.oob_score_"
      ],
      "execution_count": null,
      "outputs": []
    },
    {
      "cell_type": "code",
      "metadata": {
        "colab": {
          "base_uri": "https://localhost:8080/"
        },
        "id": "ea-PO66X2QbQ",
        "outputId": "d12a8657-a49c-4d04-83fb-d763bd8a52b7"
      },
      "source": [
        "get_oob(xs_imp)"
      ],
      "execution_count": null,
      "outputs": [
        {
          "output_type": "execute_result",
          "data": {
            "text/plain": [
              "0.49141900376726666"
            ]
          },
          "metadata": {
            "tags": []
          },
          "execution_count": 81
        }
      ]
    },
    {
      "cell_type": "code",
      "metadata": {
        "colab": {
          "base_uri": "https://localhost:8080/"
        },
        "id": "J9tFzCJS3Qmd",
        "outputId": "056554a1-0703-4720-d087-d6d580077500"
      },
      "source": [
        "print(list(xs_imp.columns))"
      ],
      "execution_count": null,
      "outputs": [
        {
          "output_type": "stream",
          "text": [
            "['lag_5', 'lag_7', 'lag_6', 'lag_4', 'eATR', 'lag_1', 'lag_3', 'lag_8', 'lag_2', 'e2', 'sslUp', 'e1', 'Elapsed', 'Day', 'sslDown', 'Dayofyear', 'trendUp', 'trendDown', 'week', 'Dayofweek']\n"
          ],
          "name": "stdout"
        }
      ]
    },
    {
      "cell_type": "code",
      "metadata": {
        "id": "gooqOEGA2RP1"
      },
      "source": [
        "# {c:get_oob(xs_imp.drop(c, axis=1)) for c in (\n",
        "#     'Month', 'Dayofyear', 'sslUp', 'sslDown')}"
      ],
      "execution_count": null,
      "outputs": []
    },
    {
      "cell_type": "code",
      "metadata": {
        "id": "jAHVyfik4b-H"
      },
      "source": [
        "# get_oob(xs_imp.drop('Month', axis=1))"
      ],
      "execution_count": null,
      "outputs": []
    },
    {
      "cell_type": "code",
      "metadata": {
        "id": "CPl_LQYJ5-gm"
      },
      "source": [
        "test_imp = test[to_keep]"
      ],
      "execution_count": null,
      "outputs": []
    },
    {
      "cell_type": "code",
      "metadata": {
        "id": "_AyCDGkU4zRL"
      },
      "source": [
        "xs_final = xs_imp#.drop('Month', axis=1)\n",
        "valid_xs_final = valid_xs_imp#.drop('Month', axis=1)\n",
        "test_imp_final = test_imp#.drop('Month', axis=1)"
      ],
      "execution_count": null,
      "outputs": []
    },
    {
      "cell_type": "code",
      "metadata": {
        "id": "euVsFer06UbR"
      },
      "source": [
        "save_pickle('xs_final.pkl', xs_final)\n",
        "save_pickle('valid_xs_final.pkl', valid_xs_final)\n",
        "save_pickle('test_imp_final.pkl', test_imp_final)"
      ],
      "execution_count": null,
      "outputs": []
    },
    {
      "cell_type": "code",
      "metadata": {
        "id": "XYQqG0J465eE"
      },
      "source": [
        "xs_final = load_pickle('xs_final.pkl')\n",
        "valid_xs_final = load_pickle('valid_xs_final.pkl')\n",
        "test_imp_final = load_pickle('test_imp_final.pkl')"
      ],
      "execution_count": null,
      "outputs": []
    },
    {
      "cell_type": "code",
      "metadata": {
        "id": "T0Jbvtu47OWV"
      },
      "source": [
        "m = rfc(xs_final, y)"
      ],
      "execution_count": null,
      "outputs": []
    },
    {
      "cell_type": "code",
      "metadata": {
        "colab": {
          "base_uri": "https://localhost:8080/"
        },
        "id": "yIGOhR_TFfPq",
        "outputId": "218673b1-57fb-4586-9c5b-6b685265d6fa"
      },
      "source": [
        "train_pred = m.predict(xs_final)\n",
        "train_acc = accuracy_score(y, train_pred)\n",
        "print(f'Train Set Accuracy: {train_acc}')\n",
        "print(confusion_matrix(y, train_pred))\n",
        "print(classification_report(y, train_pred))\n"
      ],
      "execution_count": null,
      "outputs": [
        {
          "output_type": "stream",
          "text": [
            "Train Set Accuracy: 0.9807450816241106\n",
            "[[1148    0   14]\n",
            " [   6    0    8]\n",
            " [  18    0 1195]]\n",
            "              precision    recall  f1-score   support\n",
            "\n",
            "        -1.0       0.98      0.99      0.98      1162\n",
            "         0.0       0.00      0.00      0.00        14\n",
            "         1.0       0.98      0.99      0.98      1213\n",
            "\n",
            "    accuracy                           0.98      2389\n",
            "   macro avg       0.65      0.66      0.66      2389\n",
            "weighted avg       0.98      0.98      0.98      2389\n",
            "\n"
          ],
          "name": "stdout"
        }
      ]
    },
    {
      "cell_type": "code",
      "metadata": {
        "colab": {
          "base_uri": "https://localhost:8080/"
        },
        "id": "3Gw7OaHB7pAz",
        "outputId": "e009d0b0-613d-4c60-ad28-8efbffd896b1"
      },
      "source": [
        "valid_pred = m.predict(valid_xs_final)\n",
        "valid_acc = accuracy_score(valid_y, valid_pred)\n",
        "print(f'Validation Set Accuracy: {valid_acc}')\n",
        "print(confusion_matrix(valid_y, valid_pred))\n",
        "print(classification_report(valid_y, valid_pred))"
      ],
      "execution_count": null,
      "outputs": [
        {
          "output_type": "stream",
          "text": [
            "Validation Set Accuracy: 0.5127768313458262\n",
            "[[188  88]\n",
            " [198 113]]\n",
            "              precision    recall  f1-score   support\n",
            "\n",
            "        -1.0       0.49      0.68      0.57       276\n",
            "         1.0       0.56      0.36      0.44       311\n",
            "\n",
            "    accuracy                           0.51       587\n",
            "   macro avg       0.52      0.52      0.50       587\n",
            "weighted avg       0.53      0.51      0.50       587\n",
            "\n"
          ],
          "name": "stdout"
        }
      ]
    },
    {
      "cell_type": "code",
      "metadata": {
        "colab": {
          "base_uri": "https://localhost:8080/"
        },
        "id": "UGx_CErtEkHD",
        "outputId": "291ef2cf-501a-4158-a26f-54345f94a0e2"
      },
      "source": [
        "test_pred = m.predict(test_imp_final)\n",
        "test_acc = accuracy_score(test['dir'], test_pred)\n",
        "print(f'Test Set Accuracy: {test_acc}')\n",
        "print(confusion_matrix(test['dir'], test_pred))\n",
        "print(classification_report(test['dir'], test_pred))"
      ],
      "execution_count": null,
      "outputs": [
        {
          "output_type": "stream",
          "text": [
            "Test Set Accuracy: 0.497\n",
            "[[284   0 214]\n",
            " [  0   0   1]\n",
            " [288   0 213]]\n",
            "              precision    recall  f1-score   support\n",
            "\n",
            "        -1.0       0.50      0.57      0.53       498\n",
            "         0.0       0.00      0.00      0.00         1\n",
            "         1.0       0.50      0.43      0.46       501\n",
            "\n",
            "    accuracy                           0.50      1000\n",
            "   macro avg       0.33      0.33      0.33      1000\n",
            "weighted avg       0.50      0.50      0.49      1000\n",
            "\n"
          ],
          "name": "stdout"
        }
      ]
    },
    {
      "cell_type": "code",
      "metadata": {
        "id": "yb1svs-FCL5f"
      },
      "source": [
        "?create_simple_tear_sheet"
      ],
      "execution_count": null,
      "outputs": []
    },
    {
      "cell_type": "code",
      "metadata": {
        "colab": {
          "base_uri": "https://localhost:8080/",
          "height": 1000
        },
        "id": "28OTF0NH8itj",
        "outputId": "38967674-c093-4af6-84d4-9a26947da7cd"
      },
      "source": [
        "create_simple_tear_sheet(df_test['ret']*test_pred)"
      ],
      "execution_count": null,
      "outputs": [
        {
          "output_type": "display_data",
          "data": {
            "text/html": [
              "<table border=\"1\" class=\"dataframe\">\n",
              "  <thead>\n",
              "    <tr style=\"text-align: right;\"><th>Start date</th><td colspan=2>2017-04-03</td></tr>\n",
              "    <tr style=\"text-align: right;\"><th>End date</th><td colspan=2>2021-03-29</td></tr>\n",
              "    <tr style=\"text-align: right;\"><th>Total months</th><td colspan=2>47</td></tr>\n",
              "    <tr style=\"text-align: right;\">\n",
              "      <th></th>\n",
              "      <th>Backtest</th>\n",
              "    </tr>\n",
              "  </thead>\n",
              "  <tbody>\n",
              "    <tr>\n",
              "      <th>Annual return</th>\n",
              "      <td>1.7%</td>\n",
              "    </tr>\n",
              "    <tr>\n",
              "      <th>Cumulative returns</th>\n",
              "      <td>6.9%</td>\n",
              "    </tr>\n",
              "    <tr>\n",
              "      <th>Annual volatility</th>\n",
              "      <td>7.2%</td>\n",
              "    </tr>\n",
              "    <tr>\n",
              "      <th>Sharpe ratio</th>\n",
              "      <td>0.27</td>\n",
              "    </tr>\n",
              "    <tr>\n",
              "      <th>Calmar ratio</th>\n",
              "      <td>0.08</td>\n",
              "    </tr>\n",
              "    <tr>\n",
              "      <th>Stability</th>\n",
              "      <td>0.05</td>\n",
              "    </tr>\n",
              "    <tr>\n",
              "      <th>Max drawdown</th>\n",
              "      <td>-22.1%</td>\n",
              "    </tr>\n",
              "    <tr>\n",
              "      <th>Omega ratio</th>\n",
              "      <td>1.05</td>\n",
              "    </tr>\n",
              "    <tr>\n",
              "      <th>Sortino ratio</th>\n",
              "      <td>0.38</td>\n",
              "    </tr>\n",
              "    <tr>\n",
              "      <th>Skew</th>\n",
              "      <td>-0.16</td>\n",
              "    </tr>\n",
              "    <tr>\n",
              "      <th>Kurtosis</th>\n",
              "      <td>3.69</td>\n",
              "    </tr>\n",
              "    <tr>\n",
              "      <th>Tail ratio</th>\n",
              "      <td>1.01</td>\n",
              "    </tr>\n",
              "    <tr>\n",
              "      <th>Daily value at risk</th>\n",
              "      <td>-0.9%</td>\n",
              "    </tr>\n",
              "  </tbody>\n",
              "</table>"
            ],
            "text/plain": [
              "<IPython.core.display.HTML object>"
            ]
          },
          "metadata": {
            "tags": []
          }
        },
        {
          "output_type": "display_data",
          "data": {
            "image/png": "[encoded data removed]",
            "text/plain": [
              "<Figure size 1008x1728 with 3 Axes>"
            ]
          },
          "metadata": {
            "tags": []
          }
        }
      ]
    }
  ]
}